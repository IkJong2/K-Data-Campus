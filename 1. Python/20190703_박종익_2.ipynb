{
 "cells": [
  {
   "cell_type": "markdown",
   "metadata": {},
   "source": [
    "## 결론\n",
    "### First Class Function\n",
    "파이썬 함수는 객체다. 함수를 값처럼 사용할 수 있다."
   ]
  },
  {
   "cell_type": "code",
   "execution_count": 1,
   "metadata": {},
   "outputs": [],
   "source": [
    "a = print"
   ]
  },
  {
   "cell_type": "code",
   "execution_count": 2,
   "metadata": {},
   "outputs": [
    {
     "name": "stdout",
     "output_type": "stream",
     "text": [
      "문근영\n"
     ]
    }
   ],
   "source": [
    "a('문근영')\n",
    "## why?? 함수 자체를 값(클래스)로 만들었기때문에..."
   ]
  },
  {
   "cell_type": "code",
   "execution_count": 3,
   "metadata": {},
   "outputs": [
    {
     "data": {
      "text/plain": [
       "'print'"
      ]
     },
     "execution_count": 3,
     "metadata": {},
     "output_type": "execute_result"
    }
   ],
   "source": [
    "a.__name__\n",
    "## 실제 이름은 print이다~ 본질은 바뀌지 않는다."
   ]
  },
  {
   "cell_type": "code",
   "execution_count": 4,
   "metadata": {},
   "outputs": [],
   "source": [
    "sum=0"
   ]
  },
  {
   "cell_type": "code",
   "execution_count": 5,
   "metadata": {},
   "outputs": [],
   "source": [
    "del sum"
   ]
  },
  {
   "cell_type": "code",
   "execution_count": 6,
   "metadata": {},
   "outputs": [
    {
     "data": {
      "text/plain": [
       "5050"
      ]
     },
     "execution_count": 6,
     "metadata": {},
     "output_type": "execute_result"
    }
   ],
   "source": [
    "sum(range(1,101))"
   ]
  },
  {
   "cell_type": "code",
   "execution_count": 7,
   "metadata": {},
   "outputs": [],
   "source": [
    "a = [str, int, float]"
   ]
  },
  {
   "cell_type": "code",
   "execution_count": 8,
   "metadata": {},
   "outputs": [
    {
     "data": {
      "text/plain": [
       "'2'"
      ]
     },
     "execution_count": 8,
     "metadata": {},
     "output_type": "execute_result"
    }
   ],
   "source": [
    "a[0](2)\n",
    "#str에 2를 집어 넣은 것\n",
    "## 이런 짓 하지 마라... 그냥 된다는 것만 보여줌"
   ]
  },
  {
   "cell_type": "code",
   "execution_count": 9,
   "metadata": {},
   "outputs": [],
   "source": [
    "def a(x):\n",
    "    print(x())\n"
   ]
  },
  {
   "cell_type": "code",
   "execution_count": 10,
   "metadata": {},
   "outputs": [
    {
     "name": "stdout",
     "output_type": "stream",
     "text": [
      "\n",
      "None\n"
     ]
    }
   ],
   "source": [
    "a(print)"
   ]
  },
  {
   "cell_type": "markdown",
   "metadata": {},
   "source": [
    "이 기법은 중요하다!!\n",
    "\n",
    "**Closure, Decorator** 에 사용\n",
    "\n",
    "Closure - 함수 안에 함수를 집어 넣을 수 있다. nested Function"
   ]
  },
  {
   "cell_type": "markdown",
   "metadata": {},
   "source": [
    "### global, nonlocal\n",
    "\n",
    "찾을 때 순서!! **LEGB**\n",
    "\n",
    "L : local\n",
    "\n",
    "E : 함수를 감싸고 있는 영역\n",
    "\n",
    "G : 함수 밖의 영역\n",
    "\n",
    "B : Builtin 까지 올라가서의 영역"
   ]
  },
  {
   "cell_type": "code",
   "execution_count": 33,
   "metadata": {},
   "outputs": [],
   "source": [
    "x=1"
   ]
  },
  {
   "cell_type": "code",
   "execution_count": 34,
   "metadata": {},
   "outputs": [],
   "source": [
    "def y():\n",
    "    global x\n",
    "    x = x + 3\n",
    "    print(x)\n",
    "## global을 붙이는 씽크를 맞추어준다.\n",
    "## 함수 밖에서 접근은 가능 but 수정/변경은 불가\n",
    "## 좋은 코딩 스타일은 아니다...\n",
    "## python consenting adult 너가 책임져라!!"
   ]
  },
  {
   "cell_type": "code",
   "execution_count": 35,
   "metadata": {},
   "outputs": [
    {
     "name": "stdout",
     "output_type": "stream",
     "text": [
      "4\n"
     ]
    }
   ],
   "source": [
    "y()"
   ]
  },
  {
   "cell_type": "code",
   "execution_count": 36,
   "metadata": {},
   "outputs": [
    {
     "data": {
      "text/plain": [
       "4"
      ]
     },
     "execution_count": 36,
     "metadata": {},
     "output_type": "execute_result"
    }
   ],
   "source": [
    "x"
   ]
  },
  {
   "cell_type": "code",
   "execution_count": 41,
   "metadata": {},
   "outputs": [],
   "source": [
    "def y():\n",
    "    z = 1\n",
    "    print(z)"
   ]
  },
  {
   "cell_type": "code",
   "execution_count": 44,
   "metadata": {},
   "outputs": [],
   "source": [
    "y.z = 3"
   ]
  },
  {
   "cell_type": "code",
   "execution_count": 42,
   "metadata": {},
   "outputs": [],
   "source": [
    "#z\n",
    "# NameError ... %whos안에 없다"
   ]
  },
  {
   "cell_type": "code",
   "execution_count": 45,
   "metadata": {},
   "outputs": [
    {
     "name": "stdout",
     "output_type": "stream",
     "text": [
      "1\n"
     ]
    }
   ],
   "source": [
    "y()"
   ]
  },
  {
   "cell_type": "code",
   "execution_count": 46,
   "metadata": {},
   "outputs": [
    {
     "data": {
      "text/plain": [
       "3"
      ]
     },
     "execution_count": 46,
     "metadata": {},
     "output_type": "execute_result"
    }
   ],
   "source": [
    "y.z"
   ]
  },
  {
   "cell_type": "markdown",
   "metadata": {},
   "source": [
    "이런 것들을 조금 용어적으로 캡슐화(encapsulation)...\n",
    "\n",
    "캡슐화는 객체지향에서 나왔다. 객체지향? ... In 클래스!"
   ]
  },
  {
   "cell_type": "code",
   "execution_count": 47,
   "metadata": {},
   "outputs": [],
   "source": [
    "class A:\n",
    "    x=1"
   ]
  },
  {
   "cell_type": "code",
   "execution_count": 48,
   "metadata": {},
   "outputs": [],
   "source": [
    "A.x=2"
   ]
  },
  {
   "cell_type": "code",
   "execution_count": 49,
   "metadata": {},
   "outputs": [],
   "source": [
    "a=A()"
   ]
  },
  {
   "cell_type": "code",
   "execution_count": 50,
   "metadata": {},
   "outputs": [
    {
     "data": {
      "text/plain": [
       "2"
      ]
     },
     "execution_count": 50,
     "metadata": {},
     "output_type": "execute_result"
    }
   ],
   "source": [
    "a.x"
   ]
  },
  {
   "cell_type": "markdown",
   "metadata": {},
   "source": [
    "이제 중첩을 들어갈 것!!\n",
    "\n",
    "중첩할 수 있다~ 함수 안에 함수를 넣는 것"
   ]
  },
  {
   "cell_type": "code",
   "execution_count": 53,
   "metadata": {},
   "outputs": [],
   "source": [
    "def y():\n",
    "    def z():\n",
    "        return 1\n",
    "    return z()\n",
    "##함수 안에서 지정해두면 안에서만 사용이 가능하다."
   ]
  },
  {
   "cell_type": "code",
   "execution_count": 54,
   "metadata": {},
   "outputs": [
    {
     "data": {
      "text/plain": [
       "1"
      ]
     },
     "execution_count": 54,
     "metadata": {},
     "output_type": "execute_result"
    }
   ],
   "source": [
    "y()"
   ]
  },
  {
   "cell_type": "code",
   "execution_count": 66,
   "metadata": {},
   "outputs": [],
   "source": [
    "def y():\n",
    "    def z():\n",
    "        return 1\n",
    "    return z\n",
    "##이렇게 되면 함수자체를 반환한다."
   ]
  },
  {
   "cell_type": "code",
   "execution_count": 67,
   "metadata": {},
   "outputs": [
    {
     "data": {
      "text/plain": [
       "<function __main__.y.<locals>.z()>"
      ]
     },
     "execution_count": 67,
     "metadata": {},
     "output_type": "execute_result"
    }
   ],
   "source": [
    "y()\n",
    "#당황할 필요 없다"
   ]
  },
  {
   "cell_type": "code",
   "execution_count": 68,
   "metadata": {},
   "outputs": [
    {
     "data": {
      "text/plain": [
       "1"
      ]
     },
     "execution_count": 68,
     "metadata": {},
     "output_type": "execute_result"
    }
   ],
   "source": [
    "y()()\n",
    "## 이렇게 하면 된다... Keras에서 많이 사용한다.\n",
    "## 이건 무.조.건 알아야함!!\n",
    "## 이걸로 고급기법을 나갈 수 있다."
   ]
  },
  {
   "cell_type": "code",
   "execution_count": 78,
   "metadata": {},
   "outputs": [],
   "source": [
    "def y(x):\n",
    "    def z(n):\n",
    "        return x+n\n",
    "    return z\n",
    "##이렇게 되면 함수자체를 반환한다."
   ]
  },
  {
   "cell_type": "code",
   "execution_count": 79,
   "metadata": {},
   "outputs": [],
   "source": [
    "two_add = y(2)"
   ]
  },
  {
   "cell_type": "code",
   "execution_count": 80,
   "metadata": {},
   "outputs": [
    {
     "data": {
      "text/plain": [
       "5"
      ]
     },
     "execution_count": 80,
     "metadata": {},
     "output_type": "execute_result"
    }
   ],
   "source": [
    "two_add(3)"
   ]
  },
  {
   "cell_type": "markdown",
   "metadata": {},
   "source": [
    "이런 아이들을 Closure 기법이라고 한다.\n",
    "\n",
    "클로져 기법은 모두 함수 기반이다!\n",
    "\n",
    "함수 안의 함수로 되어 있어서, 함수로 어떤 것을 생성한다.\n",
    "\n",
    "중첩이 가능하기 때문에 이런 기법을 사용할 수 있다."
   ]
  },
  {
   "cell_type": "code",
   "execution_count": 81,
   "metadata": {},
   "outputs": [],
   "source": [
    "def y(x):\n",
    "    return lambda n:n+x\n",
    "##이렇게 되면 함수자체를 반환한다."
   ]
  },
  {
   "cell_type": "code",
   "execution_count": 82,
   "metadata": {},
   "outputs": [],
   "source": [
    "four_add = y(4)"
   ]
  },
  {
   "cell_type": "code",
   "execution_count": 83,
   "metadata": {},
   "outputs": [
    {
     "data": {
      "text/plain": [
       "6"
      ]
     },
     "execution_count": 83,
     "metadata": {},
     "output_type": "execute_result"
    }
   ],
   "source": [
    "four_add(2)"
   ]
  },
  {
   "cell_type": "markdown",
   "metadata": {},
   "source": [
    "#### Closure 사용법??\n",
    "함수를 사용할 때 이런식으로 많이 만든다~\n",
    "\n",
    "#### 내일 정신 맑을 때 Decorator를 할 것!\n",
    "남이 만든 아이를 가져와서 내가 쓰고 싶은대로 바꾸는 것\n",
    "\n",
    "예를 들어 fitting 시키는 데 시간이 오래 걸린다. 그래서 데코레이터를 사용해서 핏팅이 완료되면 텔레그램을 날리도록"
   ]
  },
  {
   "cell_type": "markdown",
   "metadata": {},
   "source": [
    "### Functional Programming in Python 책\n",
    "주말에 보도록 하자~\n",
    "\n",
    "마지막 챕터인 Higher-Order-Functions보다 넓은 범위가\n",
    "\n",
    "First class Function 이다.\n",
    "\n",
    "Decorators와 Multiple Dispatch이다.\n",
    "\n",
    "코드는 이해할 필요는 없다."
   ]
  },
  {
   "cell_type": "code",
   "execution_count": 86,
   "metadata": {},
   "outputs": [
    {
     "name": "stdout",
     "output_type": "stream",
     "text": [
      "Writing moon.txt\n"
     ]
    }
   ],
   "source": [
    "%%writefile moon.txt\n",
    "fnffn\n",
    "fkffk\n",
    "dngpg\n",
    "glglgg\n",
    "lsdaknfgsadongoewik"
   ]
  },
  {
   "cell_type": "code",
   "execution_count": 87,
   "metadata": {},
   "outputs": [],
   "source": [
    "a = open('moon.txt')"
   ]
  },
  {
   "cell_type": "code",
   "execution_count": 88,
   "metadata": {},
   "outputs": [
    {
     "data": {
      "text/plain": [
       "'fnffn\\n'"
      ]
     },
     "execution_count": 88,
     "metadata": {},
     "output_type": "execute_result"
    }
   ],
   "source": [
    "next(a)"
   ]
  },
  {
   "cell_type": "markdown",
   "metadata": {},
   "source": [
    "엌ㅋㅋㅋㅋㅋㅋ 한줄씩 읽으면서 next가 먹히네?\n",
    "\n",
    "**Generator**이도다.\n",
    "\n",
    "그래서 읽어올 때도 제너레이터로 읽어올 수 있다.\n",
    "\n",
    "그리고 함수인데 **yield**가 있다?? 제너레이터!"
   ]
  },
  {
   "cell_type": "markdown",
   "metadata": {},
   "source": [
    "## duck-typing (덕 타이핑)\n",
    "올바른 인터페이스를 가졌는지 판단하는데 객체의 형을 보지 않는 프로그래밍 스타일; 대신, 단순히 메서드나 어트리뷰트가 호출되거나 사용됩니다 (\"오리처럼 보이고 오리처럼 꽥꽥댄다면, 그것은 오리다.\") 특정한 형 대신에 인터페이스를 강조함으로써, 잘 설계된 코드는 다형적인 치환을 허락함으로써 유연성을 개선할 수 있습니다. 덕 타이핑은 type() 이나 isinstance() 을 사용한 검사를 피합니다. (하지만, 덕 타이핑이 추상 베이스 클래스 로 보완될 수 있음에 유의해야 합니다.) 대신에, hasattr() 검사나 EAFP 프로그래밍을 씁니다.\n",
    "\n",
    "Tip!\n",
    "\n",
    "파이썬의 최상위 클래스 **object**\n",
    "\n",
    "클래스를 상속하지 않아도, method만 같다면 이터레이터로 사용할 수 있다\n",
    "\n",
    "덕 타이핑을 할 줄 안다면, 자기만의 알고리즘을 만들 수 있다~\n",
    "\n",
    "Recursion의 경우 파이썬에서는 tail call elimination을 지원하지 않기 때문에, 잘 사용하지 않는다~"
   ]
  },
  {
   "cell_type": "code",
   "execution_count": 90,
   "metadata": {},
   "outputs": [],
   "source": [
    "a = 1\n",
    "assert a<2\n",
    "## assert는 True False를 판단하고, False이면 에러를 발생\n",
    "## 그래서 언제 쓰느냐?? 중간중간마다 check를 해가면서 에러가 나오면 어디서 그러느냐~\n",
    "## 결국 Debugging할 때 좋다! 이 아이도 Predicate 형을 사용한다"
   ]
  },
  {
   "cell_type": "code",
   "execution_count": 91,
   "metadata": {
    "scrolled": true
   },
   "outputs": [
    {
     "ename": "AssertionError",
     "evalue": "",
     "output_type": "error",
     "traceback": [
      "\u001b[1;31m---------------------------------------------------------------------------\u001b[0m",
      "\u001b[1;31mAssertionError\u001b[0m                            Traceback (most recent call last)",
      "\u001b[1;32m<ipython-input-91-8a9c98023a00>\u001b[0m in \u001b[0;36m<module>\u001b[1;34m()\u001b[0m\n\u001b[1;32m----> 1\u001b[1;33m \u001b[1;32massert\u001b[0m \u001b[0ma\u001b[0m\u001b[1;33m>\u001b[0m\u001b[1;36m2\u001b[0m\u001b[1;33m\u001b[0m\u001b[0m\n\u001b[0m",
      "\u001b[1;31mAssertionError\u001b[0m: "
     ]
    }
   ],
   "source": [
    "assert a>2"
   ]
  },
  {
   "cell_type": "code",
   "execution_count": 95,
   "metadata": {},
   "outputs": [],
   "source": [
    "from operator import add, mul, sub\n",
    "##오퍼레이터는 우리가 아는 연산자를 함수로 만들어 준것!"
   ]
  },
  {
   "cell_type": "code",
   "execution_count": 96,
   "metadata": {},
   "outputs": [
    {
     "data": {
      "text/plain": [
       "7"
      ]
     },
     "execution_count": 96,
     "metadata": {},
     "output_type": "execute_result"
    }
   ],
   "source": [
    "add(3,4)"
   ]
  },
  {
   "cell_type": "code",
   "execution_count": 97,
   "metadata": {},
   "outputs": [
    {
     "data": {
      "text/plain": [
       "14"
      ]
     },
     "execution_count": 97,
     "metadata": {},
     "output_type": "execute_result"
    }
   ],
   "source": [
    "mul(2,7)"
   ]
  },
  {
   "cell_type": "code",
   "execution_count": 98,
   "metadata": {},
   "outputs": [
    {
     "data": {
      "text/plain": [
       "3"
      ]
     },
     "execution_count": 98,
     "metadata": {},
     "output_type": "execute_result"
    }
   ],
   "source": [
    "sub(4,1)"
   ]
  },
  {
   "cell_type": "code",
   "execution_count": 99,
   "metadata": {},
   "outputs": [
    {
     "name": "stdout",
     "output_type": "stream",
     "text": [
      "0\n",
      "1\n",
      "2\n",
      "3\n",
      "4\n",
      "5\n",
      "6\n",
      "7\n",
      "8\n",
      "9\n"
     ]
    }
   ],
   "source": [
    "for z in range(10):\n",
    "    print(z)"
   ]
  },
  {
   "cell_type": "code",
   "execution_count": 100,
   "metadata": {},
   "outputs": [
    {
     "data": {
      "text/plain": [
       "9"
      ]
     },
     "execution_count": 100,
     "metadata": {},
     "output_type": "execute_result"
    }
   ],
   "source": [
    "z"
   ]
  },
  {
   "cell_type": "code",
   "execution_count": 103,
   "metadata": {},
   "outputs": [
    {
     "data": {
      "text/plain": [
       "[0, 1, 2, 3, 4, 5, 6, 7, 8, 9]"
      ]
     },
     "execution_count": 103,
     "metadata": {},
     "output_type": "execute_result"
    }
   ],
   "source": [
    "[zz for zz in range(10)]"
   ]
  },
  {
   "cell_type": "code",
   "execution_count": 104,
   "metadata": {},
   "outputs": [
    {
     "ename": "NameError",
     "evalue": "name 'zz' is not defined",
     "output_type": "error",
     "traceback": [
      "\u001b[1;31m---------------------------------------------------------------------------\u001b[0m",
      "\u001b[1;31mNameError\u001b[0m                                 Traceback (most recent call last)",
      "\u001b[1;32m<ipython-input-104-15546de8c3b0>\u001b[0m in \u001b[0;36m<module>\u001b[1;34m()\u001b[0m\n\u001b[1;32m----> 1\u001b[1;33m \u001b[0mzz\u001b[0m\u001b[1;33m\u001b[0m\u001b[0m\n\u001b[0m",
      "\u001b[1;31mNameError\u001b[0m: name 'zz' is not defined"
     ]
    }
   ],
   "source": [
    "zz"
   ]
  },
  {
   "cell_type": "markdown",
   "metadata": {},
   "source": [
    "파이썬에서 for문을 사용했을 때, 식별자가 살아남는다. 하지만 컴프리헨션을 사용하게 되면 식별자가 썼다가 사라진다!"
   ]
  },
  {
   "cell_type": "code",
   "execution_count": 107,
   "metadata": {},
   "outputs": [],
   "source": [
    "do_it = lambda f , *args: f(*args) # lambda하고, 가변포지셔널, 함수에 가변포지셔널\n",
    "#map(do_it,[f1,f2,f3])"
   ]
  },
  {
   "cell_type": "code",
   "execution_count": 110,
   "metadata": {},
   "outputs": [
    {
     "data": {
      "text/plain": [
       "[0, 1, 2, 3, 4, 5, 6, 7, 8, 9]"
      ]
     },
     "execution_count": 110,
     "metadata": {},
     "output_type": "execute_result"
    }
   ],
   "source": [
    "_103\n",
    "#이것도 되기는 하는데... 쓰지마세요!"
   ]
  },
  {
   "cell_type": "code",
   "execution_count": 111,
   "metadata": {
    "collapsed": true
   },
   "outputs": [
    {
     "name": "stdout",
     "output_type": "stream",
     "text": [
      "a = print\n",
      "a('문근영')\n",
      "## why?? 함수 자체를 값(클래스)로 만들었기때문에...\n",
      "a.__name__\n",
      "## 실제 이름은 print이다~ 본질은 바뀌지 않는다.\n",
      "sum=0\n",
      "del sum\n",
      "sum(range(1,101))\n",
      "a = [str, int, float]\n",
      "a[0](2)\n",
      "#str에 2를 집어 넣은 것\n",
      "## 이런 짓 하지 마라... 그냥 된다는 것만 보여줌\n",
      "def a(x):\n",
      "    print(x())\n",
      "a(print)\n",
      "x=1\n",
      "def y():\n",
      "    import pdb; pdb.set_trace()\n",
      "    x=x+1\n",
      "    print(x)\n",
      "## global을 붙이는 순간 씽크가 된다\n",
      "## 좋은 코딩 스타일은 아니다...\n",
      "## python consenting adult 너가 책임져라!!\n",
      "y()\n",
      "y()\n",
      "def y():\n",
      "    global x\n",
      "    x=3\n",
      "    print(x)\n",
      "## global을 붙이는 씽크를 맞추어준다.\n",
      "## 함수 밖에서 접근은 가능 but 수정/변경은 불가\n",
      "## 좋은 코딩 스타일은 아니다...\n",
      "## python consenting adult 너가 책임져라!!\n",
      "y()\n",
      "x\n",
      "x=1\n",
      "def y():\n",
      "    global x\n",
      "    x=3\n",
      "    print(x)\n",
      "## global을 붙이는 씽크를 맞추어준다.\n",
      "## 함수 밖에서 접근은 가능 but 수정/변경은 불가\n",
      "## 좋은 코딩 스타일은 아니다...\n",
      "## python consenting adult 너가 책임져라!!\n",
      "y()\n",
      "x\n",
      "def y():\n",
      "    x=3\n",
      "    print(x)\n",
      "## global을 붙이는 씽크를 맞추어준다.\n",
      "## 함수 밖에서 접근은 가능 but 수정/변경은 불가\n",
      "## 좋은 코딩 스타일은 아니다...\n",
      "## python consenting adult 너가 책임져라!!\n",
      "y()\n",
      "x\n",
      "x=1\n",
      "def y():\n",
      "    x=3\n",
      "    print(x)\n",
      "## global을 붙이는 씽크를 맞추어준다.\n",
      "## 함수 밖에서 접근은 가능 but 수정/변경은 불가\n",
      "## 좋은 코딩 스타일은 아니다...\n",
      "## python consenting adult 너가 책임져라!!\n",
      "y()\n",
      "x\n",
      "x=1\n",
      "def y():\n",
      "    x = x + 3\n",
      "    print(x)\n",
      "## global을 붙이는 씽크를 맞추어준다.\n",
      "## 함수 밖에서 접근은 가능 but 수정/변경은 불가\n",
      "## 좋은 코딩 스타일은 아니다...\n",
      "## python consenting adult 너가 책임져라!!\n",
      "y()\n",
      "x\n",
      "x=1\n",
      "def y():\n",
      "    global x\n",
      "    x = x + 3\n",
      "    print(x)\n",
      "## global을 붙이는 씽크를 맞추어준다.\n",
      "## 함수 밖에서 접근은 가능 but 수정/변경은 불가\n",
      "## 좋은 코딩 스타일은 아니다...\n",
      "## python consenting adult 너가 책임져라!!\n",
      "y()\n",
      "x\n",
      "def y():\n",
      "    z = 1\n",
      "    print(x)\n",
      "z\n",
      "#z\n",
      "# NameError ... %whos안에 없다\n",
      "y()\n",
      "def y():\n",
      "    z = 1\n",
      "    print(z)\n",
      "#z\n",
      "# NameError ... %whos안에 없다\n",
      "y()\n",
      "y.z = 3\n",
      "y()\n",
      "y.z\n",
      "class A:\n",
      "    x=1\n",
      "A.x=2\n",
      "a=A()\n",
      "a.x\n",
      "def y():\n",
      "    def z():\n",
      "        return 1\n",
      "    return z()\n",
      "y()\n",
      "def y():\n",
      "    def z():\n",
      "        return 1\n",
      "    return z()\n",
      "##함수 안에서 지정해두면 안에서만 사용이 가능하다.\n",
      "y()\n",
      "def y():\n",
      "    def z():\n",
      "        return 1\n",
      "    return z\n",
      "##함수 안에서 지정해두면 안에서만 사용이 가능하다.\n",
      "y()\n",
      "y()()\n",
      "y()\n",
      "y()()\n",
      "def y():\n",
      "    print('문근영')\n",
      "    return y\n",
      "y()\n",
      "y()()()()()()\n",
      "y(3)()\n",
      "def y(x):\n",
      "    def z():\n",
      "        return 1\n",
      "    return z\n",
      "##이렇게 되면 함수자체를 반환한다.\n",
      "y()\n",
      "#당황할 필요 없다\n",
      "def y():\n",
      "    def z():\n",
      "        return 1\n",
      "    return z\n",
      "##이렇게 되면 함수자체를 반환한다.\n",
      "y()\n",
      "#당황할 필요 없다\n",
      "y()()\n",
      "## 이렇게 하면 된다... Keras에서 많이 사용한다.\n",
      "## 이건 무.조.건 알아야함!!\n",
      "## 이걸로 고급기법을 나갈 수 있다.\n",
      "def y(x):\n",
      "    def z():\n",
      "        return x+1\n",
      "    return z\n",
      "##이렇게 되면 함수자체를 반환한다.\n",
      "y(3)()\n",
      "y(3)(2)\n",
      "y(3)\n",
      "y(2)\n",
      "two_add = y(2)\n",
      "two_add(3)\n",
      "two_add = y(2)\n",
      "two_add(3)\n",
      "def y(x):\n",
      "    def z(n):\n",
      "        return x+n\n",
      "    return z\n",
      "##이렇게 되면 함수자체를 반환한다.\n",
      "two_add = y(2)\n",
      "two_add(3)\n",
      "def y(x):\n",
      "    return lambda n:n+x\n",
      "##이렇게 되면 함수자체를 반환한다.\n",
      "four_add = y(4)\n",
      "four_add(2)\n",
      "%% writefile mon.txt\n",
      "fnffn\n",
      "fkffk\n",
      "dngpg\n",
      "glglgg\n",
      "lsdaknfgsadongoewik\n",
      "';na'cfdslkvbngsadl;kfjgfnsad'l;kgbkdf\n",
      "dn'gansdfl;kgnfdlkgndd'gndafsg4\n",
      "'l;adslkfngbfdsoelikrbenf';blkcdmvb\n",
      "%% writefile moon.txt\n",
      "fnffn\n",
      "fkffk\n",
      "dngpg\n",
      "glglgg\n",
      "lsdaknfgsadongoewik\n",
      "%%writefile moon.txt\n",
      "fnffn\n",
      "fkffk\n",
      "dngpg\n",
      "glglgg\n",
      "lsdaknfgsadongoewik\n",
      "a = open('moon.txt')\n",
      "next(a)\n",
      "a = 1\n",
      "assert a>2\n",
      "## assert는 True False를 판단하고, False이면 에러를 발생\n",
      "## 그래서 언제 쓰느냐?? 중간중간마다 check를 해가면서 에러가 나오면 어디서 그러느냐~\n",
      "## 결국 Debugging할 때 좋다! 이 아이도 Predicate 형을 사용한다\n",
      "a = 1\n",
      "assert a<2\n",
      "## assert는 True False를 판단하고, False이면 에러를 발생\n",
      "## 그래서 언제 쓰느냐?? 중간중간마다 check를 해가면서 에러가 나오면 어디서 그러느냐~\n",
      "## 결국 Debugging할 때 좋다! 이 아이도 Predicate 형을 사용한다\n",
      "assert a>2\n",
      "from operator import add\n",
      "add(3,4)\n",
      "mul(2,7)\n",
      "from operator import add, mul, sub\n",
      "add(3,4)\n",
      "mul(2,7)\n",
      "sub(4,1)\n",
      "for z in range(10):\n",
      "    print(z)\n",
      "z\n",
      "[z for z in range(10)]\n",
      "z\n",
      "[zz for zz in range(10)]\n",
      "zz\n",
      "do_it = lambda f , *args: f(*args)\n",
      "map(do_it,[f1,f2,f3])\n",
      "do_it = lambda f , *args: f(*args) # lambda하고, 가변포지셔널, 함수에 가변포지셔널\n",
      "#map(do_it,[f1,f2,f3])\n",
      "_104\n",
      "_103\n",
      "_103\n",
      "#이것도 되기는 하는데... 쓰지마세요!\n",
      "%history\n"
     ]
    }
   ],
   "source": [
    "%history\n",
    "##여태까지 한 코드를 다 보여준다"
   ]
  },
  {
   "cell_type": "code",
   "execution_count": 112,
   "metadata": {
    "scrolled": true
   },
   "outputs": [],
   "source": [
    "from itertools import cycle"
   ]
  },
  {
   "cell_type": "code",
   "execution_count": 113,
   "metadata": {},
   "outputs": [],
   "source": [
    "a=cycle([1,2,3])"
   ]
  },
  {
   "cell_type": "code",
   "execution_count": 123,
   "metadata": {},
   "outputs": [
    {
     "data": {
      "text/plain": [
       "1"
      ]
     },
     "execution_count": 123,
     "metadata": {},
     "output_type": "execute_result"
    }
   ],
   "source": [
    "next(a)"
   ]
  },
  {
   "cell_type": "code",
   "execution_count": 124,
   "metadata": {},
   "outputs": [],
   "source": [
    "import pandas as pd"
   ]
  },
  {
   "cell_type": "code",
   "execution_count": 126,
   "metadata": {},
   "outputs": [],
   "source": [
    "import inspect"
   ]
  },
  {
   "cell_type": "code",
   "execution_count": 127,
   "metadata": {
    "collapsed": true
   },
   "outputs": [
    {
     "name": "stdout",
     "output_type": "stream",
     "text": [
      "    def parser_f(filepath_or_buffer,\n",
      "                 sep=sep,\n",
      "                 delimiter=None,\n",
      "\n",
      "                 # Column and Index Locations and Names\n",
      "                 header='infer',\n",
      "                 names=None,\n",
      "                 index_col=None,\n",
      "                 usecols=None,\n",
      "                 squeeze=False,\n",
      "                 prefix=None,\n",
      "                 mangle_dupe_cols=True,\n",
      "\n",
      "                 # General Parsing Configuration\n",
      "                 dtype=None,\n",
      "                 engine=None,\n",
      "                 converters=None,\n",
      "                 true_values=None,\n",
      "                 false_values=None,\n",
      "                 skipinitialspace=False,\n",
      "                 skiprows=None,\n",
      "                 nrows=None,\n",
      "\n",
      "                 # NA and Missing Data Handling\n",
      "                 na_values=None,\n",
      "                 keep_default_na=True,\n",
      "                 na_filter=True,\n",
      "                 verbose=False,\n",
      "                 skip_blank_lines=True,\n",
      "\n",
      "                 # Datetime Handling\n",
      "                 parse_dates=False,\n",
      "                 infer_datetime_format=False,\n",
      "                 keep_date_col=False,\n",
      "                 date_parser=None,\n",
      "                 dayfirst=False,\n",
      "\n",
      "                 # Iteration\n",
      "                 iterator=False,\n",
      "                 chunksize=None,\n",
      "\n",
      "                 # Quoting, Compression, and File Format\n",
      "                 compression='infer',\n",
      "                 thousands=None,\n",
      "                 decimal=b'.',\n",
      "                 lineterminator=None,\n",
      "                 quotechar='\"',\n",
      "                 quoting=csv.QUOTE_MINIMAL,\n",
      "                 escapechar=None,\n",
      "                 comment=None,\n",
      "                 encoding=None,\n",
      "                 dialect=None,\n",
      "                 tupleize_cols=None,\n",
      "\n",
      "                 # Error Handling\n",
      "                 error_bad_lines=True,\n",
      "                 warn_bad_lines=True,\n",
      "\n",
      "                 skipfooter=0,\n",
      "\n",
      "                 # Internal\n",
      "                 doublequote=True,\n",
      "                 delim_whitespace=False,\n",
      "                 low_memory=_c_parser_defaults['low_memory'],\n",
      "                 memory_map=False,\n",
      "                 float_precision=None):\n",
      "\n",
      "        # Alias sep -> delimiter.\n",
      "        if delimiter is None:\n",
      "            delimiter = sep\n",
      "\n",
      "        if delim_whitespace and delimiter is not default_sep:\n",
      "            raise ValueError(\"Specified a delimiter with both sep and\"\n",
      "                             \" delim_whitespace=True; you can only\"\n",
      "                             \" specify one.\")\n",
      "\n",
      "        if engine is not None:\n",
      "            engine_specified = True\n",
      "        else:\n",
      "            engine = 'c'\n",
      "            engine_specified = False\n",
      "\n",
      "        kwds = dict(delimiter=delimiter,\n",
      "                    engine=engine,\n",
      "                    dialect=dialect,\n",
      "                    compression=compression,\n",
      "                    engine_specified=engine_specified,\n",
      "\n",
      "                    doublequote=doublequote,\n",
      "                    escapechar=escapechar,\n",
      "                    quotechar=quotechar,\n",
      "                    quoting=quoting,\n",
      "                    skipinitialspace=skipinitialspace,\n",
      "                    lineterminator=lineterminator,\n",
      "\n",
      "                    header=header,\n",
      "                    index_col=index_col,\n",
      "                    names=names,\n",
      "                    prefix=prefix,\n",
      "                    skiprows=skiprows,\n",
      "                    na_values=na_values,\n",
      "                    true_values=true_values,\n",
      "                    false_values=false_values,\n",
      "                    keep_default_na=keep_default_na,\n",
      "                    thousands=thousands,\n",
      "                    comment=comment,\n",
      "                    decimal=decimal,\n",
      "\n",
      "                    parse_dates=parse_dates,\n",
      "                    keep_date_col=keep_date_col,\n",
      "                    dayfirst=dayfirst,\n",
      "                    date_parser=date_parser,\n",
      "\n",
      "                    nrows=nrows,\n",
      "                    iterator=iterator,\n",
      "                    chunksize=chunksize,\n",
      "                    skipfooter=skipfooter,\n",
      "                    converters=converters,\n",
      "                    dtype=dtype,\n",
      "                    usecols=usecols,\n",
      "                    verbose=verbose,\n",
      "                    encoding=encoding,\n",
      "                    squeeze=squeeze,\n",
      "                    memory_map=memory_map,\n",
      "                    float_precision=float_precision,\n",
      "\n",
      "                    na_filter=na_filter,\n",
      "                    delim_whitespace=delim_whitespace,\n",
      "                    warn_bad_lines=warn_bad_lines,\n",
      "                    error_bad_lines=error_bad_lines,\n",
      "                    low_memory=low_memory,\n",
      "                    mangle_dupe_cols=mangle_dupe_cols,\n",
      "                    tupleize_cols=tupleize_cols,\n",
      "                    infer_datetime_format=infer_datetime_format,\n",
      "                    skip_blank_lines=skip_blank_lines)\n",
      "\n",
      "        return _read(filepath_or_buffer, kwds)\n",
      "\n"
     ]
    }
   ],
   "source": [
    "print(inspect.getsource(pd.read_csv))"
   ]
  },
  {
   "cell_type": "code",
   "execution_count": 128,
   "metadata": {},
   "outputs": [],
   "source": [
    "from itertools import count"
   ]
  },
  {
   "cell_type": "code",
   "execution_count": 129,
   "metadata": {},
   "outputs": [],
   "source": [
    "??count"
   ]
  },
  {
   "cell_type": "code",
   "execution_count": 130,
   "metadata": {},
   "outputs": [],
   "source": [
    "a=count()"
   ]
  },
  {
   "cell_type": "code",
   "execution_count": 147,
   "metadata": {},
   "outputs": [
    {
     "data": {
      "text/plain": [
       "16"
      ]
     },
     "execution_count": 147,
     "metadata": {},
     "output_type": "execute_result"
    }
   ],
   "source": [
    "next(a)"
   ]
  },
  {
   "cell_type": "markdown",
   "metadata": {},
   "source": [
    "## 내일 배울 것 언더바 '_'"
   ]
  },
  {
   "cell_type": "code",
   "execution_count": null,
   "metadata": {},
   "outputs": [],
   "source": []
  }
 ],
 "metadata": {
  "kernelspec": {
   "display_name": "Python 3",
   "language": "python",
   "name": "python3"
  },
  "language_info": {
   "codemirror_mode": {
    "name": "ipython",
    "version": 3
   },
   "file_extension": ".py",
   "mimetype": "text/x-python",
   "name": "python",
   "nbconvert_exporter": "python",
   "pygments_lexer": "ipython3",
   "version": "3.5.6"
  }
 },
 "nbformat": 4,
 "nbformat_minor": 2
}
