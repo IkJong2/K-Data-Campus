{
 "cells": [
  {
   "cell_type": "markdown",
   "metadata": {},
   "source": [
    "## 함수형 패러다임\n",
    "오늘은  함수에 대해서만 조지겠도다\n",
    "\n",
    "함수형 패러다임이 뭘까??\n",
    "\n",
    "모든 프로그래밍을 함수기반으로 하겠다!! 이게 함수형 프로그래밍 및 함수형 패러다임이다~\n",
    "\n",
    "가장 잘 알려진 함수형 언어는 **하스켈**이 있다.\n",
    "\n",
    "파이썬은 **멀티 패러다임** 언어이다. 객체지향+함수형 패러다임\n",
    "\n",
    "그래서 문제를 해결하기 위한 다양한 패러다임이 존재한다~\n",
    "\n",
    "부작용?? -> side effect... ex) time.time() 이건 내가 원하는 값이 아니다~\n",
    "\n",
    "그래서 함수형 패러다임 내에서는 쓰면 안된다!\n",
    "\n",
    "**!!가장 중요!! 파이썬은 순수한 함수형 패러다임이 아니다!!**\n",
    "\n",
    "**원래는 객체지향 패러다임 그래서 함수형 패러다임에 얽매일 필요가 없다!! ... 필요할 때만 끌고와서 쓰면 된다.**\n",
    "\n",
    "함수형 패러다임은 모듈화 되어 있다. 그래서 디버깅과 테스팅이 하나이다~\n",
    "\n",
    "함수만 잘 짜여져 있다면 함수와 함수 또한 묶을 수 있다. 마치 합성함수 꼬라지\n",
    "\n",
    "함수형 패러다임의 경우 한꺼번에 처리를 해야한다.\n",
    "\n",
    "한꺼번에 처리를 해야하는데 그러기 위해서 하나씩 뽑아내서 처리를 해야한다."
   ]
  },
  {
   "cell_type": "code",
   "execution_count": 29,
   "metadata": {},
   "outputs": [],
   "source": [
    "import dis"
   ]
  },
  {
   "cell_type": "code",
   "execution_count": 4,
   "metadata": {},
   "outputs": [
    {
     "name": "stdout",
     "output_type": "stream",
     "text": [
      "3\n"
     ]
    }
   ],
   "source": [
    "a = input()"
   ]
  },
  {
   "cell_type": "code",
   "execution_count": 5,
   "metadata": {},
   "outputs": [],
   "source": [
    "a = int(a)\n",
    "## 이런식이 절차형 프로그래밍"
   ]
  },
  {
   "cell_type": "code",
   "execution_count": 6,
   "metadata": {},
   "outputs": [
    {
     "name": "stdout",
     "output_type": "stream",
     "text": [
      "4\n"
     ]
    }
   ],
   "source": [
    "a = int(input())\n",
    "## 합성함수랑 비슷한 형식!\n",
    "## 함수형 패러다임은 값이 명확하게 존재해야한다~"
   ]
  },
  {
   "cell_type": "code",
   "execution_count": 7,
   "metadata": {},
   "outputs": [],
   "source": [
    "import time\n",
    "def x(a=time.time):\n",
    "    return a"
   ]
  },
  {
   "cell_type": "code",
   "execution_count": 8,
   "metadata": {},
   "outputs": [
    {
     "data": {
      "text/plain": [
       "1562116759.558022"
      ]
     },
     "execution_count": 8,
     "metadata": {},
     "output_type": "execute_result"
    }
   ],
   "source": [
    "time.time()\n",
    "## 요놈을 치면 현재시간이 나온다"
   ]
  },
  {
   "cell_type": "markdown",
   "metadata": {},
   "source": [
    "### 이터레이터\n",
    "\n",
    "어제 했던 것 이터러블 : 순회가능한 아이 + 이터레이터가 될 수 있는 아이"
   ]
  },
  {
   "cell_type": "code",
   "execution_count": 30,
   "metadata": {},
   "outputs": [],
   "source": [
    "def iterator_exam():\n",
    "    for i in [1,2,3]:\n",
    "        print(i)\n",
    "## in 다음에 이터러블이 올 수 있다"
   ]
  },
  {
   "cell_type": "markdown",
   "metadata": {},
   "source": [
    "이터레이터?? 전체 값에서 하나만 뽑아내는 아이\n",
    "\n",
    "이터러블이 for 안에 들어간다면 이터레이터가 된다."
   ]
  },
  {
   "cell_type": "code",
   "execution_count": 31,
   "metadata": {},
   "outputs": [
    {
     "name": "stdout",
     "output_type": "stream",
     "text": [
      "  2           0 SETUP_LOOP              33 (to 36)\n",
      "              3 LOAD_CONST               1 (1)\n",
      "              6 LOAD_CONST               2 (2)\n",
      "              9 LOAD_CONST               3 (3)\n",
      "             12 BUILD_LIST               3\n",
      "             15 GET_ITER\n",
      "        >>   16 FOR_ITER                16 (to 35)\n",
      "             19 STORE_FAST               0 (i)\n",
      "\n",
      "  3          22 LOAD_GLOBAL              0 (print)\n",
      "             25 LOAD_FAST                0 (i)\n",
      "             28 CALL_FUNCTION            1 (1 positional, 0 keyword pair)\n",
      "             31 POP_TOP\n",
      "             32 JUMP_ABSOLUTE           16\n",
      "        >>   35 POP_BLOCK\n",
      "        >>   36 LOAD_CONST               0 (None)\n",
      "             39 RETURN_VALUE\n"
     ]
    }
   ],
   "source": [
    "dis.dis(iterator_exam)"
   ]
  },
  {
   "cell_type": "markdown",
   "metadata": {},
   "source": [
    "15 Get_Iter 이거 자체가 이터레이터로 변환하는 것\n",
    "\n",
    "이걸 알려고 하면 어셈블리어를 알아야한다.\n",
    "\n",
    "여기서 우리가 알아야할 것은 그냥 내부적으로 이터레이터로 바꿔준다는 것만 알면 된다."
   ]
  },
  {
   "cell_type": "markdown",
   "metadata": {},
   "source": [
    "이터레이터의 장점!\n",
    "\n",
    "파이썬에서 이터레이터는 Lazy한 장점이 있다\n",
    "\n",
    "Lazy?? 실행될 때 하나씩 뽑아서 메모리를 올린다.\n",
    "\n",
    "그래서 빅데이터에서 많이 쓴다. 한번에 빅데이터를 올리면 뻑이 난다.(메모리 문제)\n",
    "\n",
    "하지만! 속도는 느리다... 파이썬 내에서는 이를 보완하려고 최적화를 했다! 그래서 속도향상!!"
   ]
  },
  {
   "cell_type": "code",
   "execution_count": 37,
   "metadata": {},
   "outputs": [],
   "source": [
    "a={1,2,3}"
   ]
  },
  {
   "cell_type": "code",
   "execution_count": 38,
   "metadata": {},
   "outputs": [],
   "source": [
    "b=iter(a)"
   ]
  },
  {
   "cell_type": "code",
   "execution_count": 39,
   "metadata": {},
   "outputs": [
    {
     "data": {
      "text/plain": [
       "1"
      ]
     },
     "execution_count": 39,
     "metadata": {},
     "output_type": "execute_result"
    }
   ],
   "source": [
    "next(b)\n",
    "##계속 실행하다 보면 Error가 나온다... 이건 파이썬 철학상으로 에러를 더 좋아하기 때문에!"
   ]
  },
  {
   "cell_type": "code",
   "execution_count": 44,
   "metadata": {},
   "outputs": [
    {
     "data": {
      "text/plain": [
       "set_iterator"
      ]
     },
     "execution_count": 44,
     "metadata": {},
     "output_type": "execute_result"
    }
   ],
   "source": [
    "type(b)\n",
    "##이터러블인 아이들은 전부 다 이터레이터가 된다.\n",
    "## 타입명_이터레이터\n",
    "## 타입 바꾸는 이유?? 타입마다 용도가 존재한다. 그래서 함부로 바꾸면 안된다."
   ]
  },
  {
   "cell_type": "code",
   "execution_count": 42,
   "metadata": {},
   "outputs": [
    {
     "data": {
      "text/plain": [
       "<set_iterator at 0x1bac20465a0>"
      ]
     },
     "execution_count": 42,
     "metadata": {},
     "output_type": "execute_result"
    }
   ],
   "source": [
    "b"
   ]
  },
  {
   "cell_type": "code",
   "execution_count": 28,
   "metadata": {},
   "outputs": [
    {
     "data": {
      "text/plain": [
       "[]"
      ]
     },
     "execution_count": 28,
     "metadata": {},
     "output_type": "execute_result"
    }
   ],
   "source": [
    "list(b)\n",
    "##이러레이터는 뽑아내고 날려버린다~ 그래서 팝과 비슷한데 팝과는 달리 앞에껄 날려준다"
   ]
  },
  {
   "cell_type": "code",
   "execution_count": 47,
   "metadata": {},
   "outputs": [],
   "source": [
    "b=iter(a)\n",
    "int('3')\n",
    "##눈으로 봤을 때 이것 두개는 비슷 BUT!!"
   ]
  },
  {
   "cell_type": "code",
   "execution_count": 45,
   "metadata": {},
   "outputs": [
    {
     "data": {
      "text/plain": [
       "<function iter>"
      ]
     },
     "execution_count": 45,
     "metadata": {},
     "output_type": "execute_result"
    }
   ],
   "source": [
    "iter\n",
    "#iter는 function이지만 int의 경우 class 이다"
   ]
  },
  {
   "cell_type": "code",
   "execution_count": 50,
   "metadata": {},
   "outputs": [],
   "source": [
    "a = 0b1"
   ]
  },
  {
   "cell_type": "code",
   "execution_count": 52,
   "metadata": {},
   "outputs": [
    {
     "data": {
      "text/plain": [
       "20.0"
      ]
     },
     "execution_count": 52,
     "metadata": {},
     "output_type": "execute_result"
    }
   ],
   "source": [
    "a = 2e1\n",
    "a\n",
    "## e나 . 이 붙으면 float 타입이 된다."
   ]
  },
  {
   "cell_type": "code",
   "execution_count": 57,
   "metadata": {},
   "outputs": [],
   "source": [
    "a = b'ab\\n'\n",
    "##요놈은 raw!! 그래서 개행문자를 처리 X1"
   ]
  },
  {
   "cell_type": "code",
   "execution_count": 58,
   "metadata": {},
   "outputs": [
    {
     "name": "stdout",
     "output_type": "stream",
     "text": [
      "b'ab\\n'\n"
     ]
    }
   ],
   "source": [
    "print(a)"
   ]
  },
  {
   "cell_type": "markdown",
   "metadata": {},
   "source": [
    "자세히 보면 기호에 따라 타입이 달라진다. 그래서 이런 기호에 따라 타입을 정해주는 아이를 리터럴이라고 한다!"
   ]
  },
  {
   "cell_type": "markdown",
   "metadata": {},
   "source": [
    "객체지향에서 기본적인 사용 : 클래스가 존재하면 인스턴스화를 시켜야한다!\n",
    "\n",
    "파이썬에서 내장 클래스의 경우 맨첫글자 소문자\n",
    "\n",
    "그리고 외부에서 만든 클래스의 경우 맨첫글자 대문자!"
   ]
  },
  {
   "cell_type": "code",
   "execution_count": 59,
   "metadata": {},
   "outputs": [
    {
     "data": {
      "text/plain": [
       "bytes"
      ]
     },
     "execution_count": 59,
     "metadata": {},
     "output_type": "execute_result"
    }
   ],
   "source": [
    "type(a)"
   ]
  },
  {
   "cell_type": "markdown",
   "metadata": {},
   "source": [
    "type 쳤을 때 나오는 아이가 클래스명이다"
   ]
  },
  {
   "cell_type": "code",
   "execution_count": 60,
   "metadata": {},
   "outputs": [],
   "source": [
    "a = int('3')\n",
    "#shift tab 했을 때, / : 포지셔널 온리\n",
    "#                   * : 가변 포지셔널\n",
    "#                  ** : 가변 키워드"
   ]
  },
  {
   "cell_type": "code",
   "execution_count": 63,
   "metadata": {},
   "outputs": [
    {
     "data": {
      "text/plain": [
       "set()"
      ]
     },
     "execution_count": 63,
     "metadata": {},
     "output_type": "execute_result"
    }
   ],
   "source": [
    "b = set()\n",
    "## 비었을 경우 모두 False 인 값이 나온다\n",
    "# int -> 0 float -> 0.0 list -> [] set -> set()\n",
    "# 이터러블이 있으면 우리가 아는 이터러블한거 다 넣을 수 있다... 딕셔너리의 경우 키만!\n",
    "b"
   ]
  },
  {
   "cell_type": "markdown",
   "metadata": {},
   "source": [
    "객체지향에서 인스턴스로써 다 한다 편의를 위해 리터럴 방식도 한다\n",
    "\n",
    "기본적으로 타입을 바꿔주는 함수는 거의 없다!! 하지만 iter의 경우 예외적으로 타입을 바꿔준다\n",
    "\n",
    "일반적으로 타입을 바꿔줄 때에는 인스턴스 방식으로 새로 생성을 해주는 것이다.\n",
    "\n",
    "이터레이터는 사용가능한게 next 하나밖에 없다.\n",
    "\n",
    "비슷한 것은 제너레이터가 있다. 또한 next 밖에 쓰는 게 없다.\n",
    "\n",
    "제너레이터의 경우 함수를 이용하여 만든다.\n",
    "\n",
    "함수 안에 yield를 넣으면 제너레이터가 된다.\n",
    "\n",
    "이는 내 마음대로 next를 쓸 수 있게끔 해준다\n",
    "\n",
    "이 아이 또한 장점이 있는데, Lazy한 장점이 있다."
   ]
  },
  {
   "cell_type": "code",
   "execution_count": 64,
   "metadata": {},
   "outputs": [],
   "source": [
    "def generator_exam():\n",
    "    yield 1\n",
    "    yield 2\n",
    "    yield 3"
   ]
  },
  {
   "cell_type": "code",
   "execution_count": 72,
   "metadata": {},
   "outputs": [],
   "source": [
    "def generator_exam():\n",
    "    return [1,2,3,4]"
   ]
  },
  {
   "cell_type": "code",
   "execution_count": 80,
   "metadata": {},
   "outputs": [],
   "source": [
    "def generator_exam():\n",
    "    yield from [1,2,3,4]"
   ]
  },
  {
   "cell_type": "markdown",
   "metadata": {},
   "source": [
    "위의 return은 한번에 메모리에 올리지만,\n",
    "\n",
    "yield를 하게 되면 메모리에서 이득을 볼 수 있다."
   ]
  },
  {
   "cell_type": "code",
   "execution_count": 81,
   "metadata": {},
   "outputs": [],
   "source": [
    "x = generator_exam()"
   ]
  },
  {
   "cell_type": "code",
   "execution_count": 82,
   "metadata": {},
   "outputs": [
    {
     "data": {
      "text/plain": [
       "generator"
      ]
     },
     "execution_count": 82,
     "metadata": {},
     "output_type": "execute_result"
    }
   ],
   "source": [
    "type(x)"
   ]
  },
  {
   "cell_type": "code",
   "execution_count": 83,
   "metadata": {},
   "outputs": [
    {
     "data": {
      "text/plain": [
       "1"
      ]
     },
     "execution_count": 83,
     "metadata": {},
     "output_type": "execute_result"
    }
   ],
   "source": [
    "next(x)\n",
    "## 지정해준걸 넘어가면 StopIteration이란 에러가 나옴"
   ]
  },
  {
   "cell_type": "code",
   "execution_count": 87,
   "metadata": {},
   "outputs": [
    {
     "name": "stdout",
     "output_type": "stream",
     "text": [
      "653 ns ± 2.82 ns per loop (mean ± std. dev. of 7 runs, 1000000 loops each)\n"
     ]
    }
   ],
   "source": [
    "%timeit [x for x in range(10)]"
   ]
  },
  {
   "cell_type": "markdown",
   "metadata": {},
   "source": [
    "Comprehension(반복식) ... 하스켈에서 베껴쓴 것\n",
    "\n",
    "이런 식이면 포문에서 이터레이터를 하나씩 가져오는 것\n",
    "\n",
    "컴프리헨션 방식이 훠어어어얼씬 빠르다\n",
    "\n",
    "내부적으로 크면 클수록 더 빠르다"
   ]
  },
  {
   "cell_type": "code",
   "execution_count": 88,
   "metadata": {},
   "outputs": [
    {
     "name": "stdout",
     "output_type": "stream",
     "text": [
      "921 ns ± 3.3 ns per loop (mean ± std. dev. of 7 runs, 1000000 loops each)\n"
     ]
    }
   ],
   "source": [
    "%%timeit\n",
    "temp = []\n",
    "for i in range(10):\n",
    "    temp.append(i)\n",
    "## %%timeit는 셀 전체 ㅇㅇ"
   ]
  },
  {
   "cell_type": "code",
   "execution_count": 89,
   "metadata": {},
   "outputs": [
    {
     "data": {
      "text/plain": [
       "['0', '1', '2', '3', '4', '5', '6', '7', '8', '9']"
      ]
     },
     "execution_count": 89,
     "metadata": {},
     "output_type": "execute_result"
    }
   ],
   "source": [
    "[str(x) for x in range(10)] \n",
    "#컴프리헨션의 경우 함수 또한 사용이 가능하다... 그래서 초기화시킬때 매우매우 유용"
   ]
  },
  {
   "cell_type": "code",
   "execution_count": 92,
   "metadata": {},
   "outputs": [
    {
     "data": {
      "text/plain": [
       "['0', '2', '4', '6', '8']"
      ]
     },
     "execution_count": 92,
     "metadata": {},
     "output_type": "execute_result"
    }
   ],
   "source": [
    "[str(x) for x in range(10) if x%2==0 ] "
   ]
  },
  {
   "cell_type": "code",
   "execution_count": 93,
   "metadata": {},
   "outputs": [
    {
     "data": {
      "text/plain": [
       "[0, 3, 2, 3, 4, 3, 6, 3, 8, 3]"
      ]
     },
     "execution_count": 93,
     "metadata": {},
     "output_type": "execute_result"
    }
   ],
   "source": [
    "[x if x%2==0 else 3 for x in range(10) ] "
   ]
  },
  {
   "cell_type": "markdown",
   "metadata": {},
   "source": [
    "식은 식끼리 붙일 수 있다.\n",
    "\n",
    "그리고 컴프리헨션은 값을 초기화 시킬 때 사용한다~~~~~~~~~"
   ]
  },
  {
   "cell_type": "code",
   "execution_count": 98,
   "metadata": {},
   "outputs": [
    {
     "data": {
      "text/plain": [
       "[(1, 0),\n",
       " (1, 1),\n",
       " (1, 2),\n",
       " (1, 3),\n",
       " (1, 4),\n",
       " (2, 0),\n",
       " (2, 1),\n",
       " (2, 2),\n",
       " (2, 3),\n",
       " (2, 4),\n",
       " (3, 0),\n",
       " (3, 1),\n",
       " (3, 2),\n",
       " (3, 3),\n",
       " (3, 4),\n",
       " (4, 0),\n",
       " (4, 1),\n",
       " (4, 2),\n",
       " (4, 3),\n",
       " (4, 4)]"
      ]
     },
     "execution_count": 98,
     "metadata": {},
     "output_type": "execute_result"
    }
   ],
   "source": [
    "[(x,y) for x in range(1,5) for y in range(5)]\n",
    "##벡터를 이차원으로 중첩시킬 때 이렇게 할 수 있다. R 이나 numpy\n",
    "## 컴프리헨션은 리스트 셋 딕셔너리 다 가능 BUT!! 튜플은 안된다."
   ]
  },
  {
   "cell_type": "code",
   "execution_count": 101,
   "metadata": {},
   "outputs": [
    {
     "data": {
      "text/plain": [
       "<generator object <genexpr> at 0x000001BAC207AE60>"
      ]
     },
     "execution_count": 101,
     "metadata": {},
     "output_type": "execute_result"
    }
   ],
   "source": [
    "((x,y) for x in range(1,5) for y in range(5))"
   ]
  },
  {
   "cell_type": "markdown",
   "metadata": {},
   "source": [
    "튜플만 다른 성격을 가지고 있다!! 어떤?? immutable 그래서 제너레이터로 바뀐다리...\n",
    "\n",
    "함수형 패러다임 내에서는 mutable이 없다"
   ]
  },
  {
   "cell_type": "code",
   "execution_count": 102,
   "metadata": {},
   "outputs": [],
   "source": [
    "a = (x for x in range(10))"
   ]
  },
  {
   "cell_type": "code",
   "execution_count": 104,
   "metadata": {},
   "outputs": [
    {
     "data": {
      "text/plain": [
       "1"
      ]
     },
     "execution_count": 104,
     "metadata": {},
     "output_type": "execute_result"
    }
   ],
   "source": [
    "next(a)"
   ]
  },
  {
   "cell_type": "markdown",
   "metadata": {},
   "source": [
    "제너레이터는 두가지를 통해서 만들 수 있다. (고급기법)\n",
    "1. yield (함수로)\n",
    "2. 제너레이터 컴프리헨션 (x for x in range(10))\n",
    "\n",
    "최적화를 시킬 때 코어로 짠 다음에 함수형 패러다임으로 모두 바꾸어준다."
   ]
  },
  {
   "cell_type": "markdown",
   "metadata": {},
   "source": [
    "### 중간정리\n",
    "\n",
    "이 아이들을 쓴다면 for문을 쓰지 않고 동시에 여러가지를 처리할 수 있다.\n",
    "\n",
    "원래 하스켈에서는 for가 없다. 그래서 그나마 가장 비슷한 for를 가져왔다.\n",
    "1. 이터레이터, 제너레이터\n",
    "2. 컴프리헨션\n"
   ]
  },
  {
   "cell_type": "code",
   "execution_count": 105,
   "metadata": {},
   "outputs": [
    {
     "name": "stdout",
     "output_type": "stream",
     "text": [
      "922 ns ± 4.14 ns per loop (mean ± std. dev. of 7 runs, 1000000 loops each)\n"
     ]
    }
   ],
   "source": [
    "%%timeit\n",
    "temp=[]\n",
    "for i in range(10):\n",
    "    temp.append(i)"
   ]
  },
  {
   "cell_type": "code",
   "execution_count": 106,
   "metadata": {},
   "outputs": [
    {
     "name": "stdout",
     "output_type": "stream",
     "text": [
      "962 ns ± 3 ns per loop (mean ± std. dev. of 7 runs, 1000000 loops each)\n"
     ]
    }
   ],
   "source": [
    "%%timeit\n",
    "temp=[]\n",
    "for i in iter(range(10)):\n",
    "    temp.append(i)"
   ]
  },
  {
   "cell_type": "markdown",
   "metadata": {},
   "source": [
    "크게 차이가 없다. 그래서 굳이 적어줄 필요는 없다.\n",
    "\n",
    "이터레이터와 이터러블의 차이점은 1개밖에 없다. **next**"
   ]
  },
  {
   "cell_type": "code",
   "execution_count": 107,
   "metadata": {},
   "outputs": [],
   "source": [
    "from collections.abc import Iterable"
   ]
  },
  {
   "cell_type": "code",
   "execution_count": 108,
   "metadata": {},
   "outputs": [],
   "source": [
    "from collections.abc import Iterator"
   ]
  },
  {
   "cell_type": "code",
   "execution_count": 109,
   "metadata": {},
   "outputs": [
    {
     "data": {
      "text/plain": [
       "{'__next__'}"
      ]
     },
     "execution_count": 109,
     "metadata": {},
     "output_type": "execute_result"
    }
   ],
   "source": [
    "set(dir(Iterator)) - set(dir(Iterable))"
   ]
  },
  {
   "cell_type": "markdown",
   "metadata": {},
   "source": [
    "이터레이터는 리스트 튜플 셋 딕셔너리 다 된다.\n",
    "\n",
    "딕셔너리는 3.7 이후로 OrderedDict 안써도 되게끔 바뀌었다."
   ]
  },
  {
   "cell_type": "markdown",
   "metadata": {},
   "source": [
    "제너레이터 표현식이라는 것은 튜플 써서 컴프리헨션하는 것!!\n",
    "\n",
    "컴프리헨션의 경우 3가지\n",
    "1. 리스트\n",
    "2. 셋\n",
    "3. 딕셔너리"
   ]
  },
  {
   "cell_type": "markdown",
   "metadata": {},
   "source": [
    "이것들은 무조건적으로 필요한 것은 아니다. 하지만 데이터가 많아지고 생성할 때, **컴프리헨션**을 사용하면 메모리를 매우매우 줄일 수 있다."
   ]
  },
  {
   "cell_type": "code",
   "execution_count": 114,
   "metadata": {},
   "outputs": [
    {
     "name": "stdout",
     "output_type": "stream",
     "text": [
      "235 ns ± 1.94 ns per loop (mean ± std. dev. of 7 runs, 1000000 loops each)\n"
     ]
    }
   ],
   "source": [
    "%timeit sum([1,2,3,4,5,6,7,8,9,10])"
   ]
  },
  {
   "cell_type": "code",
   "execution_count": 115,
   "metadata": {},
   "outputs": [
    {
     "name": "stdout",
     "output_type": "stream",
     "text": [
      "817 ns ± 3.35 ns per loop (mean ± std. dev. of 7 runs, 1000000 loops each)\n"
     ]
    }
   ],
   "source": [
    "%timeit sum([x for x in range(1,11)])\n",
    "## 이 아이는 어떻게 보면 만들 필요가 없다~"
   ]
  },
  {
   "cell_type": "code",
   "execution_count": 118,
   "metadata": {},
   "outputs": [
    {
     "name": "stdout",
     "output_type": "stream",
     "text": [
      "779 ns ± 1.87 ns per loop (mean ± std. dev. of 7 runs, 1000000 loops each)\n"
     ]
    }
   ],
   "source": [
    "%timeit sum(x for x in range(1,11))\n",
    "## 함수에 집어넣을 때는 괄호를 생략이 가능하다~\n",
    "## 괄호를 생략하는 기법들이 꽤 많다~"
   ]
  },
  {
   "cell_type": "code",
   "execution_count": 119,
   "metadata": {},
   "outputs": [
    {
     "name": "stdout",
     "output_type": "stream",
     "text": [
      "788 ns ± 4.4 ns per loop (mean ± std. dev. of 7 runs, 1000000 loops each)\n"
     ]
    }
   ],
   "source": [
    "%timeit sum((x for x in range(1,11)))\n",
    "## 사실 무의미한 수치이다... 이터레이터 넣는 곳에 제너레이너를 넣을 수도 있다."
   ]
  },
  {
   "cell_type": "markdown",
   "metadata": {},
   "source": [
    "제너레이터 표현식은 항상 괄호 안에 작성해야 하지만, 함수 호출을 알리는 괄호 안에서는 괄호를 생략가능!\n",
    "\n",
    "차이 점은 **next**하나 밖에 없다~\n",
    "\n",
    "오늘 집에가서 obj.count 한번 보기!\n",
    "\n",
    "**명심해야할 것**  식은 식끼리 중첩시킬 수 있다!!\n",
    "\n",
    "함수 arguement로 식이 들어갈 수 있다."
   ]
  },
  {
   "cell_type": "markdown",
   "metadata": {},
   "source": [
    "### 재귀함수??\n",
    "\n",
    "수학적으로 점화식은 모오오오오두 재귀함수로 표현이 가능하다!\n",
    "\n",
    "그래서 함수형 패러다임에서 재귀함수를 많이 사용하게 된다."
   ]
  },
  {
   "cell_type": "code",
   "execution_count": 122,
   "metadata": {},
   "outputs": [],
   "source": [
    "def fibo(n):\n",
    "    if n<3:\n",
    "        return 1\n",
    "    return fibo(n-1) + fibo(n-2) + x\n",
    "## 이런식이 가능하긴 하다."
   ]
  },
  {
   "cell_type": "code",
   "execution_count": 126,
   "metadata": {},
   "outputs": [
    {
     "data": {
      "text/plain": [
       "13"
      ]
     },
     "execution_count": 126,
     "metadata": {},
     "output_type": "execute_result"
    }
   ],
   "source": [
    "fibo(7)"
   ]
  },
  {
   "cell_type": "code",
   "execution_count": 128,
   "metadata": {},
   "outputs": [],
   "source": [
    "fibo.x=3 ## 함수안의 인스턴스 생성이 된다!"
   ]
  },
  {
   "cell_type": "markdown",
   "metadata": {},
   "source": [
    "재귀함수는 for를 쓰지 않는 방법 중 3번째 방법에도 속한다.\n",
    "\n",
    "C로 만든 파이썬의 경우 속도 + Stack Overflow가 생긴다.\n",
    "\n",
    "꼬리 재귀??\n",
    "\n",
    "계산해야 되는 것들을 일렬로 나열한 뒤 중복된 걸 날려주자~\n",
    "\n",
    "파이썬은 꼬리재귀를 언어 자체에서 제공하진 않는다. 그래서 만들어야한다! but 잘 쓰진 않지만, 수준이 높아지면 쓴다!"
   ]
  },
  {
   "cell_type": "markdown",
   "metadata": {},
   "source": [
    "# **이름 외울 것이 삼총사**\n",
    "1. map\n",
    "2. filter\n",
    "3. reduce"
   ]
  },
  {
   "cell_type": "code",
   "execution_count": 130,
   "metadata": {},
   "outputs": [],
   "source": [
    "def add_one(x):\n",
    "    return x+1"
   ]
  },
  {
   "cell_type": "code",
   "execution_count": 140,
   "metadata": {},
   "outputs": [
    {
     "name": "stdout",
     "output_type": "stream",
     "text": [
      "937 ns ± 1.33 ns per loop (mean ± std. dev. of 7 runs, 1000000 loops each)\n"
     ]
    }
   ],
   "source": [
    "%timeit list(map(lambda x:x+1,[1,2,3,4,5]))\n",
    "## 기존의 데이터를 한번에 다 바꿔줄 때!\n",
    "## list를 만든건 그냥 보기 위해서 한 것!"
   ]
  },
  {
   "cell_type": "markdown",
   "metadata": {},
   "source": [
    "lambda는 함수식이다! 이건 또 인자로 들어갈 수 있다."
   ]
  },
  {
   "cell_type": "code",
   "execution_count": 137,
   "metadata": {},
   "outputs": [
    {
     "name": "stdout",
     "output_type": "stream",
     "text": [
      "483 ns ± 4.67 ns per loop (mean ± std. dev. of 7 runs, 1000000 loops each)\n"
     ]
    }
   ],
   "source": [
    "%%timeit\n",
    "temp = []\n",
    "for i in [1,2,3,4,5]:\n",
    "    temp.append(i)"
   ]
  },
  {
   "cell_type": "code",
   "execution_count": 138,
   "metadata": {},
   "outputs": [
    {
     "name": "stdout",
     "output_type": "stream",
     "text": [
      "453 ns ± 1.31 ns per loop (mean ± std. dev. of 7 runs, 1000000 loops each)\n"
     ]
    }
   ],
   "source": [
    "%timeit [x+1 for x in [1,2,3,4,5]]"
   ]
  },
  {
   "cell_type": "markdown",
   "metadata": {},
   "source": [
    "일반적으로 map이 성능이 제일 좋다... 여기선 조금 다른 결과..."
   ]
  },
  {
   "cell_type": "markdown",
   "metadata": {},
   "source": [
    "## Predicate\n",
    "\n",
    "True 또는 False 를 반환하는 아이들"
   ]
  },
  {
   "cell_type": "code",
   "execution_count": 143,
   "metadata": {},
   "outputs": [
    {
     "data": {
      "text/plain": [
       "[4, 5]"
      ]
     },
     "execution_count": 143,
     "metadata": {},
     "output_type": "execute_result"
    }
   ],
   "source": [
    "list(filter(lambda x:x>3, [1,2,3,4,5]))\n",
    "##filter는 true만 끄집어내진다 ... 원하는 데이터를 뽑아낼 때!\n",
    "## if 쓰는 것보다 코드의 양도 줄어들고, 속도도 향상!"
   ]
  },
  {
   "cell_type": "code",
   "execution_count": 144,
   "metadata": {},
   "outputs": [],
   "source": [
    "from functools import reduce"
   ]
  },
  {
   "cell_type": "code",
   "execution_count": 146,
   "metadata": {},
   "outputs": [
    {
     "data": {
      "text/plain": [
       "15"
      ]
     },
     "execution_count": 146,
     "metadata": {},
     "output_type": "execute_result"
    }
   ],
   "source": [
    "reduce(lambda x,y:x+y, [1,2,3,4,5])\n",
    "## 1,2 해서 3 3,3해서 6 이런식으로 줄여나가서 마지막까지 줄여나가는 것\n",
    "##주로 내적같은 데 이용 for를 대신하여 계산 가능"
   ]
  },
  {
   "cell_type": "markdown",
   "metadata": {},
   "source": [
    "## for 대신하여 쓰는 것\n",
    "1. 이터레이터, 제너레이터\n",
    "2. 컴프리헨션\n",
    "3. 재귀\n",
    "4. map, filter, reduce\n",
    "\n",
    "고급 기법들이다!! 하지만 알면 속도 및 메모리 상에서도 이득을 많이 볼 수 있다!!"
   ]
  },
  {
   "cell_type": "code",
   "execution_count": 149,
   "metadata": {},
   "outputs": [],
   "source": [
    "a='문근영 예뻐요'"
   ]
  },
  {
   "cell_type": "code",
   "execution_count": 152,
   "metadata": {},
   "outputs": [
    {
     "name": "stdout",
     "output_type": "stream",
     "text": [
      "1 문\n",
      "2 근\n",
      "3 영\n",
      "4  \n",
      "5 예\n",
      "6 뻐\n",
      "7 요\n"
     ]
    }
   ],
   "source": [
    "for i,j in enumerate(a,start=1):\n",
    "    print(i,j)"
   ]
  },
  {
   "cell_type": "markdown",
   "metadata": {},
   "source": [
    "enumerate는 index화 시켜주는 것!!\n",
    "\n",
    "함수형 패러다임의 경우 for, while로 모두 구현이 가능하다\n",
    "\n",
    "그래서 파이썬에서는 그냥 구현 해두고 최적화를 시켜라~\n",
    "\n",
    "Pandas의 경우 싹 다 함수형 패러다임이도다~"
   ]
  },
  {
   "cell_type": "markdown",
   "metadata": {},
   "source": [
    "# 과제!\n",
    "\n",
    "파이썬 자습서 한번 다 돌려보고 모르는 것 체크해오기\n",
    "\n",
    "다이나믹 프로그래밍\n",
    "\n",
    "...알고리즘 이해하기 쉽고 속도도 빠르다."
   ]
  }
 ],
 "metadata": {
  "kernelspec": {
   "display_name": "Python 3",
   "language": "python",
   "name": "python3"
  },
  "language_info": {
   "codemirror_mode": {
    "name": "ipython",
    "version": 3
   },
   "file_extension": ".py",
   "mimetype": "text/x-python",
   "name": "python",
   "nbconvert_exporter": "python",
   "pygments_lexer": "ipython3",
   "version": "3.5.6"
  }
 },
 "nbformat": 4,
 "nbformat_minor": 2
}
