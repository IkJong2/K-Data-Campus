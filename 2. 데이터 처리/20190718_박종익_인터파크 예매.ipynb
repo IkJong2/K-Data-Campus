{
 "cells": [
  {
   "cell_type": "code",
   "execution_count": 434,
   "metadata": {},
   "outputs": [],
   "source": [
    "from crawler import download\n",
    "from bs4 import BeautifulSoup\n",
    "import bs4\n",
    "import requests\n",
    "import time\n",
    "import re\n",
    "import sqlite3\n",
    "from html import unescape\n",
    "import json\n",
    "import sys\n",
    "from collections import defaultdict\n",
    "from selenium import webdriver\n",
    "from selenium.webdriver.support.ui import WebDriverWait\n",
    "from selenium.common.exceptions import ElementNotInteractableException\n",
    "from selenium.webdriver.common.by import By\n",
    "from selenium.webdriver.support import expected_conditions as EC\n",
    "from selenium.webdriver.common.keys import Keys"
   ]
  },
  {
   "cell_type": "code",
   "execution_count": 5,
   "metadata": {},
   "outputs": [],
   "source": [
    "def parseURL(seed):\n",
    "    html = download(\"get\", seed)\n",
    "    dom = BeautifulSoup(html.text, \"html.parser\")\n",
    "\n",
    "    return [\n",
    "        requests.compat.urljoin(seed,\n",
    "                                tag.find_parent()[\"href\"])\n",
    "        for tag in dom.select(\"font.list_title\")\n",
    "        if tag.find_parent() and tag.find_parent().has_attr(\"href\")\n",
    "    ]\n",
    "\n",
    "def parseContent(url):\n",
    "    html = download(\"get\", url)\n",
    "    dom = BeautifulSoup(html.text, \"html.parser\")\n",
    "\n",
    "    return {\n",
    "        \"title\":\n",
    "        dom.select_one(\"font.view_title2\").text.strip(),\n",
    "        \"body\":\n",
    "        dom.select_one(\"table.pic_bg td.han\").text.strip(),\n",
    "        \"comments\": [\n",
    "            tag.text.strip(\"table.pic_bg td.han\")\n",
    "            for tag in dom.select(\"div[id^=commentContent_]\")\n",
    "        ]\n",
    "    }"
   ]
  },
  {
   "cell_type": "code",
   "execution_count": 437,
   "metadata": {},
   "outputs": [],
   "source": [
    "def waitUntil(cssSelect=None, maximum=10, interval=1):\n",
    "    try:\n",
    "        WebDriverWait(driver, maximum, interval,\n",
    "                     [ElementNotInteractableException]).until(EC.visibility_of_element_located(\n",
    "        (By.CSS_SELECTOR, cssSelect)))\n",
    "    except:\n",
    "        return False\n",
    "    \n",
    "    return True"
   ]
  },
  {
   "cell_type": "code",
   "execution_count": 351,
   "metadata": {},
   "outputs": [],
   "source": [
    "driver = webdriver.Chrome()"
   ]
  },
  {
   "cell_type": "code",
   "execution_count": 352,
   "metadata": {},
   "outputs": [],
   "source": [
    "driver.get(\"http://ticket.interpark.com/\")"
   ]
  },
  {
   "cell_type": "code",
   "execution_count": 81,
   "metadata": {},
   "outputs": [
    {
     "data": {
      "text/plain": [
       "['_gat_UA-93889457-1',\n",
       " '_gid',\n",
       " '_ga',\n",
       " '_trs_id',\n",
       " 'cto_lwid',\n",
       " '_trs_sid',\n",
       " '_fbp',\n",
       " 'criteo_write_test',\n",
       " 'OAX',\n",
       " '_trs_flow',\n",
       " 'pcid',\n",
       " 'ASPSESSIONIDQADTCTSQ',\n",
       " 'ASPSESSIONIDSCCTDSRQ']"
      ]
     },
     "execution_count": 81,
     "metadata": {},
     "output_type": "execute_result"
    }
   ],
   "source": [
    "_logout = [_[\"name\"] for _ in driver.get_cookies()]\n",
    "#_logout"
   ]
  },
  {
   "cell_type": "code",
   "execution_count": 65,
   "metadata": {},
   "outputs": [
    {
     "name": "stdout",
     "output_type": "stream",
     "text": [
      "Overwriting interpark.json\n"
     ]
    }
   ],
   "source": [
    "%%writefile interpark.json\n",
    "{\"id\": \"pje49990\", \"pw\": \"tlqdlqjs12\"}"
   ]
  },
  {
   "cell_type": "code",
   "execution_count": 66,
   "metadata": {},
   "outputs": [],
   "source": [
    "with open(\"interpark.json\") as fp:\n",
    "    account = json.load(fp)"
   ]
  },
  {
   "cell_type": "markdown",
   "metadata": {},
   "source": [
    "login = driver.find_element_by_css_selector(\"#logstatus > a\")\n",
    "if login and login.get_attribute(\"id\") == \"aLogin\":\n",
    "    driver.get(login.get_attribute(\"href\"))\n",
    "    driver.find_element_by_css_selector(\"#UID\").send_keys(account[\"id\"])\n",
    "    driver.find_element_by_css_selector(\"#PWD\").send_keys(account[\"pw\"])\n",
    "    driver.find_element_by_css_selector(\"div.loginBtn > button.btnRed\").click()\n",
    "else :\n",
    "    print(\"로그인 됨\")"
   ]
  },
  {
   "cell_type": "markdown",
   "metadata": {},
   "source": [
    "이걸 함수로 만든것!"
   ]
  },
  {
   "cell_type": "code",
   "execution_count": 140,
   "metadata": {},
   "outputs": [],
   "source": [
    "# 로그인 버튼 찾기\n",
    "def login(account, method=\"login\"):\n",
    "    try:\n",
    "        login = driver.find_element_by_css_selector(\"#logstatus > a\")\n",
    "        if method == \"login\":\n",
    "            if login and login.get_attribute(\"id\") == \"aLogin\":\n",
    "                driver.get(login.get_attribute(\"href\"))\n",
    "                driver.find_element_by_css_selector(\"#UID\").send_keys(account[\"id\"])\n",
    "                driver.find_element_by_css_selector(\"#PWD\").send_keys(account[\"pw\"])\n",
    "                driver.find_element_by_css_selector(\"div.loginBtn > button\").click()\n",
    "        else:\n",
    "            login.click()\n",
    "    except:\n",
    "        return False\n",
    "    return True"
   ]
  },
  {
   "cell_type": "code",
   "execution_count": 253,
   "metadata": {},
   "outputs": [],
   "source": [
    "def safeClose():\n",
    "    if len(driver.window_handles) > 1:\n",
    "        for _ in driver.window_handles[1:]:\n",
    "            driver.switch_to_window(_)\n",
    "            driver.close()\n",
    "        driver.switch_to_window(driver.window_handles[0])\n",
    "        driver.switch_to_default_content()"
   ]
  },
  {
   "cell_type": "code",
   "execution_count": 141,
   "metadata": {},
   "outputs": [
    {
     "data": {
      "text/plain": [
       "True"
      ]
     },
     "execution_count": 141,
     "metadata": {},
     "output_type": "execute_result"
    }
   ],
   "source": [
    "login(account,\"login\")"
   ]
  },
  {
   "cell_type": "code",
   "execution_count": 142,
   "metadata": {},
   "outputs": [],
   "source": [
    "_login = [_[\"name\"] for _ in driver.get_cookies()]\n",
    "#_login"
   ]
  },
  {
   "cell_type": "code",
   "execution_count": 143,
   "metadata": {},
   "outputs": [
    {
     "data": {
      "text/plain": [
       "{'ASP.NET_SessionId',\n",
       " 'ASPSESSIONIDQCDSDRRQ',\n",
       " 'ASPSESSIONIDSCBQBQQR',\n",
       " 'ASPSESSIONIDSCBSASRQ',\n",
       " 'GNBBookCnt',\n",
       " 'GoodsCntInWishAndCart',\n",
       " 'HMem%5FNO',\n",
       " 'IEGS%5FGUIF',\n",
       " 'IMem%5FNO',\n",
       " 'ISession%5FID',\n",
       " 'MemHash',\n",
       " 'PrivacyCertify',\n",
       " 'SAVEID',\n",
       " 'SnsState',\n",
       " 'TKLogin',\n",
       " 'TMem%5FNO',\n",
       " 'TPartner',\n",
       " 'TSecLogin',\n",
       " 'TSession%5FID',\n",
       " 'alMemNm',\n",
       " 'captcha_text',\n",
       " 'cpth',\n",
       " 'g_buyAmt',\n",
       " 'g_buyCnt',\n",
       " 'g_memGrd',\n",
       " 'iaf',\n",
       " 'index_popup',\n",
       " 'interparkID',\n",
       " 'interparkSNO',\n",
       " 'interparkstamp',\n",
       " 'loginRetUrl',\n",
       " 'loginSnsTp',\n",
       " 'loginTp',\n",
       " 'memRealName',\n",
       " 'pwdChgYn',\n",
       " 'reqSite',\n",
       " 'siteAgree',\n",
       " 'smsCertYN',\n",
       " 'tempinterparkGUEST',\n",
       " 'tp'}"
      ]
     },
     "execution_count": 143,
     "metadata": {},
     "output_type": "execute_result"
    }
   ],
   "source": [
    "set(_login) - set(_logout)"
   ]
  },
  {
   "cell_type": "markdown",
   "metadata": {},
   "source": [
    "이 친구는 로그아웃 되어 있으면 로그인하고, 로그인 되어 있으면 로그아웃 하는 것"
   ]
  },
  {
   "cell_type": "code",
   "execution_count": 346,
   "metadata": {},
   "outputs": [
    {
     "ename": "NoSuchWindowException",
     "evalue": "Message: no such window: target window already closed\nfrom unknown error: web view not found\n  (Session info: chrome=75.0.3770.142)\n",
     "output_type": "error",
     "traceback": [
      "\u001b[1;31m---------------------------------------------------------------------------\u001b[0m",
      "\u001b[1;31mNoSuchWindowException\u001b[0m                     Traceback (most recent call last)",
      "\u001b[1;32m<ipython-input-346-4730aad15c7f>\u001b[0m in \u001b[0;36m<module>\u001b[1;34m()\u001b[0m\n\u001b[1;32m----> 1\u001b[1;33m \u001b[1;32mif\u001b[0m \u001b[1;34m\"ISession%5FID\"\u001b[0m \u001b[1;32mnot\u001b[0m \u001b[1;32min\u001b[0m \u001b[1;33m[\u001b[0m\u001b[0m_\u001b[0m\u001b[1;33m[\u001b[0m\u001b[1;34m\"name\"\u001b[0m\u001b[1;33m]\u001b[0m \u001b[1;32mfor\u001b[0m \u001b[0m_\u001b[0m \u001b[1;32min\u001b[0m \u001b[0mdriver\u001b[0m\u001b[1;33m.\u001b[0m\u001b[0mget_cookies\u001b[0m\u001b[1;33m(\u001b[0m\u001b[1;33m)\u001b[0m\u001b[1;33m]\u001b[0m\u001b[1;33m:\u001b[0m\u001b[1;33m\u001b[0m\u001b[0m\n\u001b[0m\u001b[0;32m      2\u001b[0m     \u001b[0mlogin\u001b[0m\u001b[1;33m(\u001b[0m\u001b[0maccount\u001b[0m\u001b[1;33m)\u001b[0m\u001b[1;33m\u001b[0m\u001b[0m\n\u001b[0;32m      3\u001b[0m \u001b[1;32melse\u001b[0m\u001b[1;33m:\u001b[0m\u001b[1;33m\u001b[0m\u001b[0m\n\u001b[0;32m      4\u001b[0m     \u001b[0mlogin\u001b[0m\u001b[1;33m(\u001b[0m\u001b[1;32mNone\u001b[0m\u001b[1;33m,\u001b[0m \u001b[1;34m\"logout\"\u001b[0m\u001b[1;33m)\u001b[0m\u001b[1;33m\u001b[0m\u001b[0m\n",
      "\u001b[1;32m~\\Anaconda3\\envs\\cuda\\lib\\site-packages\\selenium\\webdriver\\remote\\webdriver.py\u001b[0m in \u001b[0;36mget_cookies\u001b[1;34m(self)\u001b[0m\n\u001b[0;32m    839\u001b[0m             \u001b[0mdriver\u001b[0m\u001b[1;33m.\u001b[0m\u001b[0mget_cookies\u001b[0m\u001b[1;33m(\u001b[0m\u001b[1;33m)\u001b[0m\u001b[1;33m\u001b[0m\u001b[0m\n\u001b[0;32m    840\u001b[0m         \"\"\"\n\u001b[1;32m--> 841\u001b[1;33m         \u001b[1;32mreturn\u001b[0m \u001b[0mself\u001b[0m\u001b[1;33m.\u001b[0m\u001b[0mexecute\u001b[0m\u001b[1;33m(\u001b[0m\u001b[0mCommand\u001b[0m\u001b[1;33m.\u001b[0m\u001b[0mGET_ALL_COOKIES\u001b[0m\u001b[1;33m)\u001b[0m\u001b[1;33m[\u001b[0m\u001b[1;34m'value'\u001b[0m\u001b[1;33m]\u001b[0m\u001b[1;33m\u001b[0m\u001b[0m\n\u001b[0m\u001b[0;32m    842\u001b[0m \u001b[1;33m\u001b[0m\u001b[0m\n\u001b[0;32m    843\u001b[0m     \u001b[1;32mdef\u001b[0m \u001b[0mget_cookie\u001b[0m\u001b[1;33m(\u001b[0m\u001b[0mself\u001b[0m\u001b[1;33m,\u001b[0m \u001b[0mname\u001b[0m\u001b[1;33m)\u001b[0m\u001b[1;33m:\u001b[0m\u001b[1;33m\u001b[0m\u001b[0m\n",
      "\u001b[1;32m~\\Anaconda3\\envs\\cuda\\lib\\site-packages\\selenium\\webdriver\\remote\\webdriver.py\u001b[0m in \u001b[0;36mexecute\u001b[1;34m(self, driver_command, params)\u001b[0m\n\u001b[0;32m    319\u001b[0m         \u001b[0mresponse\u001b[0m \u001b[1;33m=\u001b[0m \u001b[0mself\u001b[0m\u001b[1;33m.\u001b[0m\u001b[0mcommand_executor\u001b[0m\u001b[1;33m.\u001b[0m\u001b[0mexecute\u001b[0m\u001b[1;33m(\u001b[0m\u001b[0mdriver_command\u001b[0m\u001b[1;33m,\u001b[0m \u001b[0mparams\u001b[0m\u001b[1;33m)\u001b[0m\u001b[1;33m\u001b[0m\u001b[0m\n\u001b[0;32m    320\u001b[0m         \u001b[1;32mif\u001b[0m \u001b[0mresponse\u001b[0m\u001b[1;33m:\u001b[0m\u001b[1;33m\u001b[0m\u001b[0m\n\u001b[1;32m--> 321\u001b[1;33m             \u001b[0mself\u001b[0m\u001b[1;33m.\u001b[0m\u001b[0merror_handler\u001b[0m\u001b[1;33m.\u001b[0m\u001b[0mcheck_response\u001b[0m\u001b[1;33m(\u001b[0m\u001b[0mresponse\u001b[0m\u001b[1;33m)\u001b[0m\u001b[1;33m\u001b[0m\u001b[0m\n\u001b[0m\u001b[0;32m    322\u001b[0m             response['value'] = self._unwrap_value(\n\u001b[0;32m    323\u001b[0m                 response.get('value', None))\n",
      "\u001b[1;32m~\\Anaconda3\\envs\\cuda\\lib\\site-packages\\selenium\\webdriver\\remote\\errorhandler.py\u001b[0m in \u001b[0;36mcheck_response\u001b[1;34m(self, response)\u001b[0m\n\u001b[0;32m    240\u001b[0m                 \u001b[0malert_text\u001b[0m \u001b[1;33m=\u001b[0m \u001b[0mvalue\u001b[0m\u001b[1;33m[\u001b[0m\u001b[1;34m'alert'\u001b[0m\u001b[1;33m]\u001b[0m\u001b[1;33m.\u001b[0m\u001b[0mget\u001b[0m\u001b[1;33m(\u001b[0m\u001b[1;34m'text'\u001b[0m\u001b[1;33m)\u001b[0m\u001b[1;33m\u001b[0m\u001b[0m\n\u001b[0;32m    241\u001b[0m             \u001b[1;32mraise\u001b[0m \u001b[0mexception_class\u001b[0m\u001b[1;33m(\u001b[0m\u001b[0mmessage\u001b[0m\u001b[1;33m,\u001b[0m \u001b[0mscreen\u001b[0m\u001b[1;33m,\u001b[0m \u001b[0mstacktrace\u001b[0m\u001b[1;33m,\u001b[0m \u001b[0malert_text\u001b[0m\u001b[1;33m)\u001b[0m\u001b[1;33m\u001b[0m\u001b[0m\n\u001b[1;32m--> 242\u001b[1;33m         \u001b[1;32mraise\u001b[0m \u001b[0mexception_class\u001b[0m\u001b[1;33m(\u001b[0m\u001b[0mmessage\u001b[0m\u001b[1;33m,\u001b[0m \u001b[0mscreen\u001b[0m\u001b[1;33m,\u001b[0m \u001b[0mstacktrace\u001b[0m\u001b[1;33m)\u001b[0m\u001b[1;33m\u001b[0m\u001b[0m\n\u001b[0m\u001b[0;32m    243\u001b[0m \u001b[1;33m\u001b[0m\u001b[0m\n\u001b[0;32m    244\u001b[0m     \u001b[1;32mdef\u001b[0m \u001b[0m_value_or_default\u001b[0m\u001b[1;33m(\u001b[0m\u001b[0mself\u001b[0m\u001b[1;33m,\u001b[0m \u001b[0mobj\u001b[0m\u001b[1;33m,\u001b[0m \u001b[0mkey\u001b[0m\u001b[1;33m,\u001b[0m \u001b[0mdefault\u001b[0m\u001b[1;33m)\u001b[0m\u001b[1;33m:\u001b[0m\u001b[1;33m\u001b[0m\u001b[0m\n",
      "\u001b[1;31mNoSuchWindowException\u001b[0m: Message: no such window: target window already closed\nfrom unknown error: web view not found\n  (Session info: chrome=75.0.3770.142)\n"
     ]
    }
   ],
   "source": [
    "if \"ISession%5FID\" not in [_[\"name\"] for _ in driver.get_cookies()]:\n",
    "    login(account)\n",
    "else:\n",
    "    login(None, \"logout\")"
   ]
  },
  {
   "cell_type": "code",
   "execution_count": 353,
   "metadata": {},
   "outputs": [
    {
     "data": {
      "text/plain": [
       "['전체메뉴보기',\n",
       " '뮤지컬',\n",
       " '콘서트',\n",
       " '연극',\n",
       " '클래식/무용',\n",
       " '스포츠',\n",
       " '레저',\n",
       " '전시/행사',\n",
       " '아동/가족',\n",
       " 'TOPING',\n",
       " '랭킹',\n",
       " '지역',\n",
       " '공연장']"
      ]
     },
     "execution_count": 353,
     "metadata": {},
     "output_type": "execute_result"
    }
   ],
   "source": [
    "links = [_ for _ in driver.find_elements_by_css_selector(\"ul.gnbBtns a[class^=btn]\")]\n",
    "[_.find_element_by_css_selector(\"img\").get_attribute(\"alt\") for _ in links]"
   ]
  },
  {
   "cell_type": "code",
   "execution_count": 354,
   "metadata": {},
   "outputs": [],
   "source": [
    "def gnbbtns(category=\"콘서트\"):\n",
    "    links = [_ for _ in driver.find_elements_by_css_selector(\"ul.gnbBtns a[class^=btn]\")]\n",
    "    titles = [_.find_element_by_css_selector(\"img\").get_attribute(\"alt\") for _ in links]\n",
    "    \n",
    "    if category in titles:\n",
    "        return links[titles.index(category)].get_attribute(\"href\")\n",
    "    return False"
   ]
  },
  {
   "cell_type": "code",
   "execution_count": 355,
   "metadata": {},
   "outputs": [
    {
     "data": {
      "text/plain": [
       "'http://ticket.interpark.com/ConcertIndex.asp'"
      ]
     },
     "execution_count": 355,
     "metadata": {},
     "output_type": "execute_result"
    }
   ],
   "source": [
    "gnbbtns(\"콘서트\")"
   ]
  },
  {
   "cell_type": "code",
   "execution_count": 356,
   "metadata": {},
   "outputs": [],
   "source": [
    "url = gnbbtns(\"콘서트\")\n",
    "if url:\n",
    "    driver.get(url)"
   ]
  },
  {
   "cell_type": "code",
   "execution_count": 343,
   "metadata": {},
   "outputs": [],
   "source": [
    "def hotissue(issue=\"\"):\n",
    "    issues = [_ for _ in driver.find_elements_by_css_selector(\n",
    "        \".wrap_issue dl.list > dt.issue_obj > a\")]\n",
    "    titles = [_.find_element_by_css_selector(\"span.txt1\").text for _ in issues]\n",
    "    ##span.txt1이 가수이름!!\n",
    "    \n",
    "    if issue in titles:\n",
    "        return issues[titles.index(issue)].get_attribute(\"href\")\n",
    "    else:\n",
    "        return issues[0].get_attribute(\"href\") "
   ]
  },
  {
   "cell_type": "code",
   "execution_count": 357,
   "metadata": {},
   "outputs": [
    {
     "data": {
      "text/plain": [
       "'http://ticket.interpark.com/Ticket/Goods/TPBridge.asp?GoodsCode=19008643'"
      ]
     },
     "execution_count": 357,
     "metadata": {},
     "output_type": "execute_result"
    }
   ],
   "source": [
    "hotissue(\"박정현\")"
   ]
  },
  {
   "cell_type": "code",
   "execution_count": 358,
   "metadata": {},
   "outputs": [],
   "source": [
    "url = hotissue(\"박정현\")\n",
    "if url:\n",
    "    driver.get(url)"
   ]
  },
  {
   "cell_type": "code",
   "execution_count": 274,
   "metadata": {},
   "outputs": [],
   "source": [
    "def bookWindow(options=None):\n",
    "    if options:\n",
    "        iframe = driver.find_element_by_css_selector(\n",
    "            \"#ifrCalendar\")\n",
    "        \n",
    "        if iframe:\n",
    "            driver.switch_to_frame(iframe)\n",
    "            dates = [_ for _ in\n",
    "                    driver.find_elements_by_css_selector(\n",
    "                        \"td.able > a\")]\n",
    "            title = [_.text for _ in dates]\n",
    "            \n",
    "        if options in title:\n",
    "            driver.execute_script(\n",
    "                dates[title.index(options)]\n",
    "                .get_attribute(\"onclick\"))\n",
    "        \n",
    "        else:\n",
    "            driver.execute_script(\n",
    "                dates[0].get_attribute(\"onclick\"))\n",
    "        \n",
    "        driver.switch_to_default_content()\n",
    "        \n",
    "    driver.find_element_by_css_selector(\n",
    "        \".tk_dt_btn_TArea > a.btn_rev\").click()\n",
    "    \n",
    "    driver.switch_to_window(driver.window_handles[-1])\n",
    "    driver.find_element_by_css_selector(\"#LargeNextBtn\").click()\n",
    "    "
   ]
  },
  {
   "cell_type": "code",
   "execution_count": 359,
   "metadata": {},
   "outputs": [
    {
     "name": "stderr",
     "output_type": "stream",
     "text": [
      "C:\\Users\\Ikjong\\Anaconda3\\envs\\cuda\\lib\\site-packages\\ipykernel_launcher.py:7: DeprecationWarning: use driver.switch_to.frame instead\n",
      "  import sys\n",
      "C:\\Users\\Ikjong\\Anaconda3\\envs\\cuda\\lib\\site-packages\\ipykernel_launcher.py:22: DeprecationWarning: use driver.switch_to.default_content instead\n",
      "C:\\Users\\Ikjong\\Anaconda3\\envs\\cuda\\lib\\site-packages\\ipykernel_launcher.py:27: DeprecationWarning: use driver.switch_to.window instead\n"
     ]
    }
   ],
   "source": [
    "bookWindow(\"4\")"
   ]
  },
  {
   "cell_type": "markdown",
   "metadata": {},
   "source": [
    "## 좌석선택"
   ]
  },
  {
   "cell_type": "code",
   "execution_count": 436,
   "metadata": {},
   "outputs": [],
   "source": [
    "def step2(floor=None, section=None, row=None, seat = []):\n",
    "    iframe1 = driver.find_element_by_css_selector(\"#ifrmSeat\")\n",
    "    driver.switch_to_frame(irame1)\n",
    "    \n",
    "    driver.execute_script(\"fnRefresh();\")\n",
    "    \n",
    "    if floor:\n",
    "        iframe2 = driver.find_element_by_css_selector(\"#ifrmSeatView\")\n",
    "        driver.switch_to_frame(iframe2)\n",
    "        area = [_ for _ in driver.find_element_by_css_selector(\"map > area\")]\n",
    "        name = [re.findall(r\"(RGN\\d{3})\",_.get_attribute(\"href\"))[0] for _ in area]\n",
    "        \n",
    "        floor = \"RGN{:03d}\".format(floor)\n",
    "        \n",
    "        if floor in name:\n",
    "            driver.execute_script(area[name.index(floor)].get_attribute(\"href\"))\n",
    "        \n",
    "        driver.switch_to_default_content()\n",
    "        driver.switch_to_frame(iframe1)\n",
    "    \n",
    "    iframe3 = driver.find_element_by_css_selector(\"#ifrmSeatDetail\")\n",
    "    driver.switch_to_frame(iframe3)\n",
    "    \n",
    "    seatList = driver.find_element_by_css_selector(\"#TmgsTable img.stySeat\")\n",
    "    seatDict = defaultdict(lambda: defaultdict(list))\n",
    "    \n",
    "    for i, _ in enumerate(seatList):\n",
    "        script = re.findall(\n",
    "        r\"\\(\\'.*?\\', \\'.*?\\', \\'.*?\\', \\'(.*?)\\', \\'(.*?)\\', \\'.*?\\'\", _.get_attribute(\"onclick\"))[0]\n",
    "        \n",
    "        seatInfo = script[0].split()\n",
    "        if len(seatInfo) < 2:\n",
    "            seatDict[\"2층\"][seatInfo[0]].append(\n",
    "                (script[1], i))\n",
    "        else :\n",
    "            seatDict[seatInfo[0]][seatInfo[1]].append(\n",
    "                (script[1], i))\n",
    "            \n",
    "    if not section:\n",
    "        section = sorted(seatDict.keys())[0]\n",
    "    \n",
    "    if not row:\n",
    "        row = sorted(seatDict[section].keys())[0]\n",
    "    \n",
    "    if len(seat) > 1:\n",
    "        selected = [_ for _ in seatDict[section][row]\n",
    "                       if _[0] in seat]\n",
    "    else :\n",
    "        selected = [_ for _ in sorted(seatDict[section][row])]\n",
    "    print(selected)\n",
    "    \n",
    "    for _ in selected:\n",
    "        driber.execute_script(\n",
    "        seatList[_[1]].get_attribute(\"onclick\"))\n",
    "        \n",
    "    driver.switch_to_default_content()"
   ]
  },
  {
   "cell_type": "code",
   "execution_count": 333,
   "metadata": {},
   "outputs": [],
   "source": [
    "def book_seat_Window(options=None):\n",
    "    \n",
    "    \n",
    "    iframe = driver.find_element_by_name(\"ifrmSeat\")\n",
    "    iiframe = driver.find_element_by_name(\"ifrmSeatDetail\")\n",
    "    driver.switch_to_frame(iiframe)\n",
    "    script = driver.find_elements_by_css_selector(\"tbody > tr > td > img.stySeat\")[1].get_attribute(\"onclick\")\n",
    "    driver.execute_script(script)\n",
    "    \n",
    "    driver.switch_to_default_content()\n",
    "    iframe = driver.find_element_by_name(\"ifrmSeat\")\n",
    "    driver.switch_to_frame(iframe)\n",
    "    click_script = driver.find_element_by_css_selector(\"div.btnWrap > a\").get_attribute(\"onclick\")\n",
    "    driver.execute_script(click_script)\n",
    "    driver.switch_to_default_content()\n"
   ]
  },
  {
   "cell_type": "code",
   "execution_count": 276,
   "metadata": {},
   "outputs": [
    {
     "name": "stderr",
     "output_type": "stream",
     "text": [
      "C:\\Users\\Ikjong\\Anaconda3\\envs\\cuda\\lib\\site-packages\\ipykernel_launcher.py:1: DeprecationWarning: use driver.switch_to.window instead\n",
      "  \"\"\"Entry point for launching an IPython kernel.\n"
     ]
    }
   ],
   "source": [
    "driver.switch_to_window(driver.window_handles[-1])"
   ]
  },
  {
   "cell_type": "code",
   "execution_count": 278,
   "metadata": {},
   "outputs": [],
   "source": [
    "driver.find_element_by_css_selector(\"#LargeNextBtn\").click()"
   ]
  },
  {
   "cell_type": "code",
   "execution_count": 362,
   "metadata": {},
   "outputs": [],
   "source": [
    "iframe = driver.find_element_by_name(\"ifrmSeat\")"
   ]
  },
  {
   "cell_type": "code",
   "execution_count": 363,
   "metadata": {},
   "outputs": [
    {
     "name": "stderr",
     "output_type": "stream",
     "text": [
      "C:\\Users\\Ikjong\\Anaconda3\\envs\\cuda\\lib\\site-packages\\ipykernel_launcher.py:1: DeprecationWarning: use driver.switch_to.frame instead\n",
      "  \"\"\"Entry point for launching an IPython kernel.\n"
     ]
    }
   ],
   "source": [
    "driver.switch_to_frame(iframe)"
   ]
  },
  {
   "cell_type": "code",
   "execution_count": 364,
   "metadata": {},
   "outputs": [],
   "source": [
    "iiframe = driver.find_element_by_name(\"ifrmSeatDetail\")"
   ]
  },
  {
   "cell_type": "code",
   "execution_count": 365,
   "metadata": {},
   "outputs": [
    {
     "name": "stderr",
     "output_type": "stream",
     "text": [
      "C:\\Users\\Ikjong\\Anaconda3\\envs\\cuda\\lib\\site-packages\\ipykernel_launcher.py:1: DeprecationWarning: use driver.switch_to.frame instead\n",
      "  \"\"\"Entry point for launching an IPython kernel.\n"
     ]
    }
   ],
   "source": [
    "driver.switch_to_frame(iiframe)"
   ]
  },
  {
   "cell_type": "code",
   "execution_count": 366,
   "metadata": {},
   "outputs": [],
   "source": [
    "script = driver.find_elements_by_css_selector(\"tbody > tr > td > img.stySeat\")[1].get_attribute(\"onclick\")"
   ]
  },
  {
   "cell_type": "code",
   "execution_count": 367,
   "metadata": {},
   "outputs": [],
   "source": [
    "driver.execute_script(script)"
   ]
  },
  {
   "cell_type": "code",
   "execution_count": 368,
   "metadata": {},
   "outputs": [
    {
     "name": "stderr",
     "output_type": "stream",
     "text": [
      "C:\\Users\\Ikjong\\Anaconda3\\envs\\cuda\\lib\\site-packages\\ipykernel_launcher.py:1: DeprecationWarning: use driver.switch_to.default_content instead\n",
      "  \"\"\"Entry point for launching an IPython kernel.\n"
     ]
    }
   ],
   "source": [
    "driver.switch_to_default_content()"
   ]
  },
  {
   "cell_type": "code",
   "execution_count": 369,
   "metadata": {},
   "outputs": [],
   "source": [
    "iframe = driver.find_element_by_name(\"ifrmSeat\")"
   ]
  },
  {
   "cell_type": "code",
   "execution_count": 370,
   "metadata": {},
   "outputs": [
    {
     "name": "stderr",
     "output_type": "stream",
     "text": [
      "C:\\Users\\Ikjong\\Anaconda3\\envs\\cuda\\lib\\site-packages\\ipykernel_launcher.py:1: DeprecationWarning: use driver.switch_to.frame instead\n",
      "  \"\"\"Entry point for launching an IPython kernel.\n"
     ]
    }
   ],
   "source": [
    "driver.switch_to_frame(iframe)"
   ]
  },
  {
   "cell_type": "code",
   "execution_count": 371,
   "metadata": {},
   "outputs": [
    {
     "data": {
      "text/plain": [
       "<selenium.webdriver.remote.webelement.WebElement (session=\"776981614e398521ebdbc5acb155d99a\", element=\"b2da5760-8cff-4520-a1ac-fc6f5d6e99bc\")>"
      ]
     },
     "execution_count": 371,
     "metadata": {},
     "output_type": "execute_result"
    }
   ],
   "source": [
    "driver.find_element_by_css_selector(\"div.btnWrap > a\")"
   ]
  },
  {
   "cell_type": "code",
   "execution_count": 372,
   "metadata": {},
   "outputs": [],
   "source": [
    "click_script = driver.find_element_by_css_selector(\"div.btnWrap > a\").get_attribute(\"onclick\")"
   ]
  },
  {
   "cell_type": "code",
   "execution_count": 373,
   "metadata": {},
   "outputs": [],
   "source": [
    "driver.execute_script(click_script)"
   ]
  },
  {
   "cell_type": "code",
   "execution_count": 374,
   "metadata": {},
   "outputs": [
    {
     "name": "stderr",
     "output_type": "stream",
     "text": [
      "C:\\Users\\Ikjong\\Anaconda3\\envs\\cuda\\lib\\site-packages\\ipykernel_launcher.py:1: DeprecationWarning: use driver.switch_to.default_content instead\n",
      "  \"\"\"Entry point for launching an IPython kernel.\n"
     ]
    }
   ],
   "source": [
    "driver.switch_to_default_content()"
   ]
  },
  {
   "cell_type": "markdown",
   "metadata": {},
   "source": [
    "## 여기서 매수 선택하기"
   ]
  },
  {
   "cell_type": "code",
   "execution_count": 399,
   "metadata": {},
   "outputs": [],
   "source": [
    "from selenium.webdriver.support.ui import Select"
   ]
  },
  {
   "cell_type": "code",
   "execution_count": 400,
   "metadata": {},
   "outputs": [],
   "source": [
    "def setPrice():\n",
    "    if not waitUntil(\"#ifrmBookStep\"):\n",
    "        print(\"Not found Book Frame\")\n",
    "        return False\n",
    "    \n",
    "    driver.switch_to_frame(\n",
    "        driver.find_element_by_css_selector(\"ifrmBookStep\"))\n",
    "    \n",
    "    if not waitUntil(\"select[name='SeatCount']\"):\n",
    "        print(\"Not found Seat Count\")\n",
    "        return False\n",
    "    \n",
    "    seatCount = Select(\n",
    "        driver.find_element_by_css_selector(\n",
    "            \"select[name='SeatCount']\"))\n",
    "    seatCount.select_by_index(\n",
    "        driver.find_element_by_css_selector(\n",
    "            \".taL option:last-child\").get_attribute(\"value\"))\n",
    "    \n",
    "    driver.switch_to_default_content()"
   ]
  },
  {
   "cell_type": "code",
   "execution_count": 376,
   "metadata": {},
   "outputs": [],
   "source": [
    "iframe = driver.find_element_by_name(\"ifrmBookStep\")"
   ]
  },
  {
   "cell_type": "code",
   "execution_count": 377,
   "metadata": {},
   "outputs": [
    {
     "name": "stderr",
     "output_type": "stream",
     "text": [
      "C:\\Users\\Ikjong\\Anaconda3\\envs\\cuda\\lib\\site-packages\\ipykernel_launcher.py:1: DeprecationWarning: use driver.switch_to.frame instead\n",
      "  \"\"\"Entry point for launching an IPython kernel.\n"
     ]
    }
   ],
   "source": [
    "driver.switch_to_frame(iframe)"
   ]
  },
  {
   "cell_type": "code",
   "execution_count": 382,
   "metadata": {},
   "outputs": [],
   "source": [
    "driver.find_elements_by_css_selector(\"select option\")[1].click()"
   ]
  },
  {
   "cell_type": "code",
   "execution_count": 383,
   "metadata": {},
   "outputs": [
    {
     "name": "stderr",
     "output_type": "stream",
     "text": [
      "C:\\Users\\Ikjong\\Anaconda3\\envs\\cuda\\lib\\site-packages\\ipykernel_launcher.py:1: DeprecationWarning: use driver.switch_to.default_content instead\n",
      "  \"\"\"Entry point for launching an IPython kernel.\n"
     ]
    }
   ],
   "source": [
    "driver.switch_to_default_content()"
   ]
  },
  {
   "cell_type": "code",
   "execution_count": 392,
   "metadata": {},
   "outputs": [],
   "source": [
    "NextStep = driver.find_elements_by_css_selector(\"#SmallNextBtn a\")[1].get_attribute(\"href\")"
   ]
  },
  {
   "cell_type": "code",
   "execution_count": 393,
   "metadata": {},
   "outputs": [],
   "source": [
    "driver.execute_script(NextStep)"
   ]
  },
  {
   "cell_type": "markdown",
   "metadata": {},
   "source": [
    "## 이제 개인정보 입력"
   ]
  },
  {
   "cell_type": "code",
   "execution_count": 395,
   "metadata": {},
   "outputs": [
    {
     "name": "stderr",
     "output_type": "stream",
     "text": [
      "C:\\Users\\Ikjong\\Anaconda3\\envs\\cuda\\lib\\site-packages\\ipykernel_launcher.py:2: DeprecationWarning: use driver.switch_to.frame instead\n",
      "  \n"
     ]
    }
   ],
   "source": [
    "iframe = driver.find_element_by_name(\"ifrmBookStep\")\n",
    "driver.switch_to_frame(iframe)"
   ]
  },
  {
   "cell_type": "code",
   "execution_count": 397,
   "metadata": {},
   "outputs": [],
   "source": [
    "driver.find_element_by_css_selector(\"#YYMMDD\").send_keys(\"960118\")\n",
    "driver.find_element_by_css_selector(\"#HpNo1\").send_keys(\"010\")\n",
    "driver.find_element_by_css_selector(\"#HpNo2\").send_keys(\"3357\")\n",
    "driver.find_element_by_css_selector(\"#HpNo3\").send_keys(\"4990\")"
   ]
  },
  {
   "cell_type": "code",
   "execution_count": 398,
   "metadata": {},
   "outputs": [
    {
     "name": "stderr",
     "output_type": "stream",
     "text": [
      "C:\\Users\\Ikjong\\Anaconda3\\envs\\cuda\\lib\\site-packages\\ipykernel_launcher.py:1: DeprecationWarning: use driver.switch_to.default_content instead\n",
      "  \"\"\"Entry point for launching an IPython kernel.\n"
     ]
    }
   ],
   "source": [
    "driver.switch_to_default_content()"
   ]
  },
  {
   "cell_type": "code",
   "execution_count": 402,
   "metadata": {},
   "outputs": [],
   "source": [
    "NextStep = driver.find_elements_by_css_selector(\"#SmallNextBtn a\")[1].get_attribute(\"href\")\n",
    "driver.execute_script(NextStep)"
   ]
  },
  {
   "cell_type": "markdown",
   "metadata": {},
   "source": [
    "## 여기부터 결제\n",
    "\n",
    "무통장 -> 결제은행 -> 결제 ... 주석버튼"
   ]
  },
  {
   "cell_type": "code",
   "execution_count": 415,
   "metadata": {},
   "outputs": [
    {
     "name": "stderr",
     "output_type": "stream",
     "text": [
      "C:\\Users\\Ikjong\\Anaconda3\\envs\\cuda\\lib\\site-packages\\ipykernel_launcher.py:2: DeprecationWarning: use driver.switch_to.frame instead\n",
      "  \n"
     ]
    }
   ],
   "source": [
    "iframe = driver.find_element_by_name(\"ifrmBookStep\")\n",
    "driver.switch_to_frame(iframe)"
   ]
  },
  {
   "cell_type": "code",
   "execution_count": 421,
   "metadata": {},
   "outputs": [],
   "source": [
    "driver.find_element_by_css_selector(\"#Payment_22004 > td > input\").click()"
   ]
  },
  {
   "cell_type": "code",
   "execution_count": 423,
   "metadata": {},
   "outputs": [],
   "source": [
    "driver.find_element_by_css_selector(\"#BankCode > option:nth-child(7)\").click()"
   ]
  },
  {
   "cell_type": "code",
   "execution_count": 424,
   "metadata": {},
   "outputs": [
    {
     "name": "stderr",
     "output_type": "stream",
     "text": [
      "C:\\Users\\Ikjong\\Anaconda3\\envs\\cuda\\lib\\site-packages\\ipykernel_launcher.py:1: DeprecationWarning: use driver.switch_to.default_content instead\n",
      "  \"\"\"Entry point for launching an IPython kernel.\n"
     ]
    }
   ],
   "source": [
    "driver.switch_to_default_content()\n",
    "NextStep = driver.find_elements_by_css_selector(\"#SmallNextBtn a\")[1].get_attribute(\"href\")\n",
    "driver.execute_script(NextStep)"
   ]
  },
  {
   "cell_type": "code",
   "execution_count": 426,
   "metadata": {},
   "outputs": [
    {
     "name": "stderr",
     "output_type": "stream",
     "text": [
      "C:\\Users\\Ikjong\\Anaconda3\\envs\\cuda\\lib\\site-packages\\ipykernel_launcher.py:2: DeprecationWarning: use driver.switch_to.frame instead\n",
      "  \n"
     ]
    }
   ],
   "source": [
    "iframe = driver.find_element_by_name(\"ifrmBookStep\")\n",
    "driver.switch_to_frame(iframe)"
   ]
  },
  {
   "cell_type": "code",
   "execution_count": 429,
   "metadata": {},
   "outputs": [],
   "source": [
    "driver.find_element_by_css_selector(\"#CancelAgree\").click()\n",
    "driver.find_element_by_css_selector(\"#CancelAgree2\").click()"
   ]
  },
  {
   "cell_type": "code",
   "execution_count": 431,
   "metadata": {},
   "outputs": [
    {
     "name": "stderr",
     "output_type": "stream",
     "text": [
      "C:\\Users\\Ikjong\\Anaconda3\\envs\\cuda\\lib\\site-packages\\ipykernel_launcher.py:1: DeprecationWarning: use driver.switch_to.default_content instead\n",
      "  \"\"\"Entry point for launching an IPython kernel.\n"
     ]
    }
   ],
   "source": [
    "driver.switch_to_default_content()\n",
    "#driver.find_element_by_css_selector(\"#LargeNextBtnLink\").click()"
   ]
  },
  {
   "cell_type": "code",
   "execution_count": null,
   "metadata": {},
   "outputs": [],
   "source": []
  },
  {
   "cell_type": "code",
   "execution_count": 433,
   "metadata": {},
   "outputs": [],
   "source": [
    "safeClose()"
   ]
  },
  {
   "cell_type": "code",
   "execution_count": null,
   "metadata": {},
   "outputs": [],
   "source": []
  }
 ],
 "metadata": {
  "kernelspec": {
   "display_name": "Python 3",
   "language": "python",
   "name": "python3"
  },
  "language_info": {
   "codemirror_mode": {
    "name": "ipython",
    "version": 3
   },
   "file_extension": ".py",
   "mimetype": "text/x-python",
   "name": "python",
   "nbconvert_exporter": "python",
   "pygments_lexer": "ipython3",
   "version": "3.5.6"
  }
 },
 "nbformat": 4,
 "nbformat_minor": 2
}
