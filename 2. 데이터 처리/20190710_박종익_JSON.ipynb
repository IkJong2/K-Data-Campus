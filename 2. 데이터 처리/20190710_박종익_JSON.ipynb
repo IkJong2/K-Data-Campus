{
 "cells": [
  {
   "cell_type": "markdown",
   "metadata": {},
   "source": [
    "## JSON and XML"
   ]
  },
  {
   "cell_type": "markdown",
   "metadata": {},
   "source": [
    "### Json?\n",
    "\n",
    "- JSON stands for JavaScript Object Notation\n",
    "- Designed for human-readable data interchange\n",
    "- serialize and transmitting\n",
    "\n",
    "JSON 에서는 무조건 \"\"을 써야한다."
   ]
  },
  {
   "cell_type": "code",
   "execution_count": 1,
   "metadata": {},
   "outputs": [],
   "source": [
    "import json"
   ]
  },
  {
   "cell_type": "code",
   "execution_count": 2,
   "metadata": {},
   "outputs": [],
   "source": [
    "name = (\"Kim\", \"Lee\", \"Park\")\n",
    "age = [30,28,31]\n",
    "person = {\"name\":\"Kim\", \"age\":30, \"car\":False}"
   ]
  },
  {
   "cell_type": "code",
   "execution_count": 3,
   "metadata": {},
   "outputs": [],
   "source": [
    "nameStr = json.dumps(name)\n",
    "ageStr = json.dumps(age)\n",
    "personStr = json.dumps(person, indent = \"  \")\n",
    "##이 친구는 stringnify"
   ]
  },
  {
   "cell_type": "code",
   "execution_count": 4,
   "metadata": {},
   "outputs": [
    {
     "data": {
      "text/plain": [
       "'[\"Kim\", \"Lee\", \"Park\"]'"
      ]
     },
     "execution_count": 4,
     "metadata": {},
     "output_type": "execute_result"
    }
   ],
   "source": [
    "nameStr"
   ]
  },
  {
   "cell_type": "code",
   "execution_count": 5,
   "metadata": {},
   "outputs": [
    {
     "data": {
      "text/plain": [
       "'[30, 28, 31]'"
      ]
     },
     "execution_count": 5,
     "metadata": {},
     "output_type": "execute_result"
    }
   ],
   "source": [
    "ageStr"
   ]
  },
  {
   "cell_type": "code",
   "execution_count": 6,
   "metadata": {},
   "outputs": [
    {
     "data": {
      "text/plain": [
       "'{\\n  \"car\": false,\\n  \"age\": 30,\\n  \"name\": \"Kim\"\\n}'"
      ]
     },
     "execution_count": 6,
     "metadata": {},
     "output_type": "execute_result"
    }
   ],
   "source": [
    "personStr"
   ]
  },
  {
   "cell_type": "code",
   "execution_count": 7,
   "metadata": {},
   "outputs": [
    {
     "data": {
      "text/plain": [
       "'[\"\\\\uae40\", \"\\\\uc774\", \"\\\\ubc15\"]'"
      ]
     },
     "execution_count": 7,
     "metadata": {},
     "output_type": "execute_result"
    }
   ],
   "source": [
    "kname = (\"김\", \"이\",\"박\")\n",
    "knameStr = json.dumps(kname)\n",
    "knameStr"
   ]
  },
  {
   "cell_type": "code",
   "execution_count": 8,
   "metadata": {},
   "outputs": [
    {
     "data": {
      "text/plain": [
       "'[\"김\", \"이\", \"박\"]'"
      ]
     },
     "execution_count": 8,
     "metadata": {},
     "output_type": "execute_result"
    }
   ],
   "source": [
    "knameStr = json.dumps(kname, ensure_ascii=False)\n",
    "knameStr"
   ]
  },
  {
   "cell_type": "code",
   "execution_count": 9,
   "metadata": {},
   "outputs": [
    {
     "data": {
      "text/plain": [
       "True"
      ]
     },
     "execution_count": 9,
     "metadata": {},
     "output_type": "execute_result"
    }
   ],
   "source": [
    "personObj = json.loads(personStr)\n",
    "## json.parse와 같은 역할\n",
    "person == personObj"
   ]
  },
  {
   "cell_type": "code",
   "execution_count": 10,
   "metadata": {},
   "outputs": [],
   "source": [
    "person[\"car\"] = [\"레이\",\"모닝\"]\n",
    "                \n",
    "with open(\"person.json\",\"w\") as f:\n",
    "    json.dump(person,f)"
   ]
  },
  {
   "cell_type": "code",
   "execution_count": 11,
   "metadata": {},
   "outputs": [],
   "source": [
    "with open(\"person.json\",\"r\") as f:\n",
    "    personObj = json.load(f)"
   ]
  },
  {
   "cell_type": "code",
   "execution_count": 12,
   "metadata": {},
   "outputs": [
    {
     "data": {
      "text/plain": [
       "{'age': 30, 'car': ['레이', '모닝'], 'name': 'Kim'}"
      ]
     },
     "execution_count": 12,
     "metadata": {},
     "output_type": "execute_result"
    }
   ],
   "source": [
    "personObj\n",
    "##원래 car에 false 였는데, 레이랑 모닝을 넣어줌!"
   ]
  },
  {
   "cell_type": "code",
   "execution_count": 13,
   "metadata": {},
   "outputs": [],
   "source": [
    "import urllib.request"
   ]
  },
  {
   "cell_type": "code",
   "execution_count": 14,
   "metadata": {},
   "outputs": [],
   "source": [
    "url = \"http://ip.jsontest.com\" ##지금 뻗음..."
   ]
  },
  {
   "cell_type": "code",
   "execution_count": 15,
   "metadata": {},
   "outputs": [],
   "source": [
    "obj = {\"name\":\"김이박\", \"age\":30}\n",
    "objStr = json.dumps(obj)\n",
    "objByte = objStr.encode(\"utf=8\")"
   ]
  },
  {
   "cell_type": "code",
   "execution_count": 20,
   "metadata": {},
   "outputs": [],
   "source": [
    "req = urllib.request.Request(url, data=objByte, headers = {'content-type': 'application.json'})\n",
    "res = urllib.request.urlopen(req)"
   ]
  },
  {
   "cell_type": "code",
   "execution_count": 21,
   "metadata": {},
   "outputs": [
    {
     "data": {
      "text/plain": [
       "'{\"ip\": \"59.5.75.182\"}\\n'"
      ]
     },
     "execution_count": 21,
     "metadata": {},
     "output_type": "execute_result"
    }
   ],
   "source": [
    "resByte = res.read()\n",
    "resStr = resByte.decode(\"utf-8\")\n",
    "resStr"
   ]
  },
  {
   "cell_type": "markdown",
   "metadata": {},
   "source": [
    "## 대기오염 정보서비스"
   ]
  },
  {
   "cell_type": "code",
   "execution_count": 22,
   "metadata": {},
   "outputs": [],
   "source": [
    "url = \"http://openapi.airkorea.or.kr/openapi/services/rest/ArpltnInforInqireSvc/getCtprvnRltmMesureDnsty\""
   ]
  },
  {
   "cell_type": "code",
   "execution_count": 23,
   "metadata": {},
   "outputs": [],
   "source": [
    "params = {\n",
    "    \"serviceKey\" : \"xgnHIwrHEQw%2Bsurbf6sAoGLGAbUyTcXmWcdlkJ07HhGbNyp%2Bzifg1mCXWvJjOylHKsREA915rppfAqmfoA29TQ%3D%3D\",\n",
    "    \"numOfRows\":10,\n",
    "    \"pageNo\":1,\n",
    "    \"sidoName\":\"서울\",\n",
    "    \"dataTerm\":\"DAILY\",\n",
    "    \"ver\":1.3,\n",
    "    \"_returnType\":\"json\"\n",
    " }"
   ]
  },
  {
   "cell_type": "code",
   "execution_count": 24,
   "metadata": {},
   "outputs": [],
   "source": [
    "params[\"serviceKey\"] = urllib.parse.unquote(params[\"serviceKey\"])\n",
    "params = urllib.parse.urlencode(params)"
   ]
  },
  {
   "cell_type": "code",
   "execution_count": 25,
   "metadata": {},
   "outputs": [
    {
     "data": {
      "text/plain": [
       "str"
      ]
     },
     "execution_count": 25,
     "metadata": {},
     "output_type": "execute_result"
    }
   ],
   "source": [
    "type(params)"
   ]
  },
  {
   "cell_type": "code",
   "execution_count": 26,
   "metadata": {},
   "outputs": [
    {
     "data": {
      "text/plain": [
       "'_returnType=json&numOfRows=10&sidoName=%EC%84%9C%EC%9A%B8&serviceKey=xgnHIwrHEQw%2Bsurbf6sAoGLGAbUyTcXmWcdlkJ07HhGbNyp%2Bzifg1mCXWvJjOylHKsREA915rppfAqmfoA29TQ%3D%3D&pageNo=1&dataTerm=DAILY&ver=1.3'"
      ]
     },
     "execution_count": 26,
     "metadata": {},
     "output_type": "execute_result"
    }
   ],
   "source": [
    "params"
   ]
  },
  {
   "cell_type": "code",
   "execution_count": 27,
   "metadata": {},
   "outputs": [],
   "source": [
    "params = params.encode(\"utf-8\") ##bytes로만 통신이 가능하기 때문에!!"
   ]
  },
  {
   "cell_type": "code",
   "execution_count": 28,
   "metadata": {},
   "outputs": [
    {
     "data": {
      "text/plain": [
       "bytes"
      ]
     },
     "execution_count": 28,
     "metadata": {},
     "output_type": "execute_result"
    }
   ],
   "source": [
    "type(params) "
   ]
  },
  {
   "cell_type": "code",
   "execution_count": 29,
   "metadata": {},
   "outputs": [
    {
     "data": {
      "text/plain": [
       "<http.client.HTTPResponse at 0x287ee55f7f0>"
      ]
     },
     "execution_count": 29,
     "metadata": {},
     "output_type": "execute_result"
    }
   ],
   "source": [
    "req = urllib.request.Request(url, data=params)\n",
    "res = urllib.request.urlopen(req)\n",
    "res"
   ]
  },
  {
   "cell_type": "code",
   "execution_count": 30,
   "metadata": {},
   "outputs": [
    {
     "data": {
      "text/plain": [
       "http.client.HTTPResponse"
      ]
     },
     "execution_count": 30,
     "metadata": {},
     "output_type": "execute_result"
    }
   ],
   "source": [
    "type(res)"
   ]
  },
  {
   "cell_type": "code",
   "execution_count": 31,
   "metadata": {},
   "outputs": [
    {
     "data": {
      "text/plain": [
       "bytes"
      ]
     },
     "execution_count": 31,
     "metadata": {},
     "output_type": "execute_result"
    }
   ],
   "source": [
    "resStr = res.read()\n",
    "type(resStr) ##아직까진 bytes"
   ]
  },
  {
   "cell_type": "code",
   "execution_count": 34,
   "metadata": {},
   "outputs": [],
   "source": [
    "resStr = resStr.decode(\"utf-8\") #bytes를 다시 st로 decode"
   ]
  },
  {
   "cell_type": "code",
   "execution_count": 35,
   "metadata": {
    "scrolled": true
   },
   "outputs": [
    {
     "data": {
      "text/plain": [
       "'{\"list\":[{\"_returnType\":\"json\",\"coGrade\":\"1\",\"coValue\":\"0.1\",\"dataTerm\":\"\",\"dataTime\":\"2019-07-29 03:00\",\"khaiGrade\":\"1\",\"khaiValue\":\"27\",\"mangName\":\"도시대기\",\"no2Grade\":\"1\",\"no2Value\":\"0.010\",\"numOfRows\":\"10\",\"o3Grade\":\"1\",\"o3Value\":\"0.005\",\"pageNo\":\"1\",\"pm10Grade\":\"1\",\"pm10Grade1h\":\"1\",\"pm10Value\":\"12\",\"pm10Value24\":\"16\",\"pm25Grade\":\"1\",\"pm25Grade1h\":\"1\",\"pm25Value\":\"5\",\"pm25Value24\":\"8\",\"resultCode\":\"\",\"resultMsg\":\"\",\"rnum\":0,\"serviceKey\":\"\",\"sidoName\":\"\",\"so2Grade\":\"1\",\"so2Value\":\"0.003\",\"stationCode\":\"\",\"stationName\":\"중구\",\"totalCount\":\"\",\"ver\":\"\"},{\"_returnType\":\"json\",\"coGrade\":\"1\",\"coValue\":\"0.4\",\"dataTerm\":\"\",\"dataTime\":\"2019-07-29 03:00\",\"khaiGrade\":\"1\",\"khaiValue\":\"35\",\"mangName\":\"도로변대기\",\"no2Grade\":\"1\",\"no2Value\":\"0.012\",\"numOfRows\":\"10\",\"o3Grade\":\"1\",\"o3Value\":\"0.005\",\"pageNo\":\"1\",\"pm10Grade\":\"1\",\"pm10Grade1h\":\"1\",\"pm10Value\":\"16\",\"pm10Value24\":\"21\",\"pm25Grade\":\"1\",\"pm25Grade1h\":\"1\",\"pm25Value\":\"6\",\"pm25Value24\":\"8\",\"resultCode\":\"\",\"resultMsg\":\"\",\"rnum\":0,\"serviceKey\":\"\",\"sidoName\":\"\",\"so2Grade\":\"1\",\"so2Value\":\"0.004\",\"stationCode\":\"\",\"stationName\":\"한강대로\",\"totalCount\":\"\",\"ver\":\"\"},{\"_returnType\":\"json\",\"coGrade\":\"\",\"coValue\":\"-\",\"dataTerm\":\"\",\"dataTime\":\"2019-07-29 03:00\",\"khaiGrade\":\"\",\"khaiValue\":\"-\",\"mangName\":\"도시대기\",\"no2Grade\":\"1\",\"no2Value\":\"0.013\",\"numOfRows\":\"10\",\"o3Grade\":\"1\",\"o3Value\":\"0.005\",\"pageNo\":\"1\",\"pm10Grade\":\"1\",\"pm10Grade1h\":\"1\",\"pm10Value\":\"9\",\"pm10Value24\":\"14\",\"pm25Grade\":\"\",\"pm25Grade1h\":\"\",\"pm25Value\":\"-\",\"pm25Value24\":\"-\",\"resultCode\":\"\",\"resultMsg\":\"\",\"rnum\":0,\"serviceKey\":\"\",\"sidoName\":\"\",\"so2Grade\":\"1\",\"so2Value\":\"0.003\",\"stationCode\":\"\",\"stationName\":\"종로구\",\"totalCount\":\"\",\"ver\":\"\"},{\"_returnType\":\"json\",\"coGrade\":\"1\",\"coValue\":\"0.3\",\"dataTerm\":\"\",\"dataTime\":\"2019-07-29 03:00\",\"khaiGrade\":\"1\",\"khaiValue\":\"30\",\"mangName\":\"도로변대기\",\"no2Grade\":\"1\",\"no2Value\":\"0.013\",\"numOfRows\":\"10\",\"o3Grade\":\"1\",\"o3Value\":\"0.004\",\"pageNo\":\"1\",\"pm10Grade\":\"1\",\"pm10Grade1h\":\"1\",\"pm10Value\":\"12\",\"pm10Value24\":\"15\",\"pm25Grade\":\"1\",\"pm25Grade1h\":\"1\",\"pm25Value\":\"6\",\"pm25Value24\":\"9\",\"resultCode\":\"\",\"resultMsg\":\"\",\"rnum\":0,\"serviceKey\":\"\",\"sidoName\":\"\",\"so2Grade\":\"1\",\"so2Value\":\"0.003\",\"stationCode\":\"\",\"stationName\":\"청계천로\",\"totalCount\":\"\",\"ver\":\"\"},{\"_returnType\":\"json\",\"coGrade\":\"1\",\"coValue\":\"0.2\",\"dataTerm\":\"\",\"dataTime\":\"2019-07-29 03:00\",\"khaiGrade\":\"1\",\"khaiValue\":\"18\",\"mangName\":\"도로변대기\",\"no2Grade\":\"1\",\"no2Value\":\"0.010\",\"numOfRows\":\"10\",\"o3Grade\":\"1\",\"o3Value\":\"0.004\",\"pageNo\":\"1\",\"pm10Grade\":\"1\",\"pm10Grade1h\":\"1\",\"pm10Value\":\"8\",\"pm10Value24\":\"11\",\"pm25Grade\":\"1\",\"pm25Grade1h\":\"1\",\"pm25Value\":\"3\",\"pm25Value24\":\"5\",\"resultCode\":\"\",\"resultMsg\":\"\",\"rnum\":0,\"serviceKey\":\"\",\"sidoName\":\"\",\"so2Grade\":\"1\",\"so2Value\":\"0.002\",\"stationCode\":\"\",\"stationName\":\"종로\",\"totalCount\":\"\",\"ver\":\"\"},{\"_returnType\":\"json\",\"coGrade\":\"1\",\"coValue\":\"0.2\",\"dataTerm\":\"\",\"dataTime\":\"2019-07-29 03:00\",\"khaiGrade\":\"1\",\"khaiValue\":\"27\",\"mangName\":\"도시대기\",\"no2Grade\":\"1\",\"no2Value\":\"0.010\",\"numOfRows\":\"10\",\"o3Grade\":\"1\",\"o3Value\":\"0.003\",\"pageNo\":\"1\",\"pm10Grade\":\"1\",\"pm10Grade1h\":\"1\",\"pm10Value\":\"9\",\"pm10Value24\":\"11\",\"pm25Grade\":\"1\",\"pm25Grade1h\":\"1\",\"pm25Value\":\"4\",\"pm25Value24\":\"8\",\"resultCode\":\"\",\"resultMsg\":\"\",\"rnum\":0,\"serviceKey\":\"\",\"sidoName\":\"\",\"so2Grade\":\"1\",\"so2Value\":\"0.002\",\"stationCode\":\"\",\"stationName\":\"용산구\",\"totalCount\":\"\",\"ver\":\"\"},{\"_returnType\":\"json\",\"coGrade\":\"1\",\"coValue\":\"0.6\",\"dataTerm\":\"\",\"dataTime\":\"2019-07-29 03:00\",\"khaiGrade\":\"\",\"khaiValue\":\"-\",\"mangName\":\"도시대기\",\"no2Grade\":\"1\",\"no2Value\":\"0.011\",\"numOfRows\":\"10\",\"o3Grade\":\"1\",\"o3Value\":\"0.003\",\"pageNo\":\"1\",\"pm10Grade\":\"\",\"pm10Grade1h\":\"1\",\"pm10Value\":\"9\",\"pm10Value24\":\"-\",\"pm25Grade\":\"1\",\"pm25Grade1h\":\"1\",\"pm25Value\":\"9\",\"pm25Value24\":\"11\",\"resultCode\":\"\",\"resultMsg\":\"\",\"rnum\":0,\"serviceKey\":\"\",\"sidoName\":\"\",\"so2Grade\":\"1\",\"so2Value\":\"0.005\",\"stationCode\":\"\",\"stationName\":\"광진구\",\"totalCount\":\"\",\"ver\":\"\"},{\"_returnType\":\"json\",\"coGrade\":\"1\",\"coValue\":\"0.2\",\"dataTerm\":\"\",\"dataTime\":\"2019-07-29 03:00\",\"khaiGrade\":\"\",\"khaiValue\":\"-\",\"mangName\":\"도시대기\",\"no2Grade\":\"1\",\"no2Value\":\"0.010\",\"numOfRows\":\"10\",\"o3Grade\":\"1\",\"o3Value\":\"0.007\",\"pageNo\":\"1\",\"pm10Grade\":\"1\",\"pm10Grade1h\":\"1\",\"pm10Value\":\"9\",\"pm10Value24\":\"8\",\"pm25Grade\":\"\",\"pm25Grade1h\":\"1\",\"pm25Value\":\"1\",\"pm25Value24\":\"-\",\"resultCode\":\"\",\"resultMsg\":\"\",\"rnum\":0,\"serviceKey\":\"\",\"sidoName\":\"\",\"so2Grade\":\"1\",\"so2Value\":\"0.002\",\"stationCode\":\"\",\"stationName\":\"성동구\",\"totalCount\":\"\",\"ver\":\"\"},{\"_returnType\":\"json\",\"coGrade\":\"1\",\"coValue\":\"0.1\",\"dataTerm\":\"\",\"dataTime\":\"2019-07-29 03:00\",\"khaiGrade\":\"\",\"khaiValue\":\"-\",\"mangName\":\"도로변대기\",\"no2Grade\":\"1\",\"no2Value\":\"0.017\",\"numOfRows\":\"10\",\"o3Grade\":\"1\",\"o3Value\":\"0.006\",\"pageNo\":\"1\",\"pm10Grade\":\"1\",\"pm10Grade1h\":\"1\",\"pm10Value\":\"9\",\"pm10Value24\":\"11\",\"pm25Grade\":\"\",\"pm25Grade1h\":\"\",\"pm25Value\":\"-\",\"pm25Value24\":\"-\",\"resultCode\":\"\",\"resultMsg\":\"\",\"rnum\":0,\"serviceKey\":\"\",\"sidoName\":\"\",\"so2Grade\":\"\",\"so2Value\":\"-\",\"stationCode\":\"\",\"stationName\":\"강변북로\",\"totalCount\":\"\",\"ver\":\"\"},{\"_returnType\":\"json\",\"coGrade\":\"1\",\"coValue\":\"0.3\",\"dataTerm\":\"\",\"dataTime\":\"2019-07-29 03:00\",\"khaiGrade\":\"1\",\"khaiValue\":\"27\",\"mangName\":\"도시대기\",\"no2Grade\":\"1\",\"no2Value\":\"0.007\",\"numOfRows\":\"10\",\"o3Grade\":\"1\",\"o3Value\":\"0.002\",\"pageNo\":\"1\",\"pm10Grade\":\"1\",\"pm10Grade1h\":\"1\",\"pm10Value\":\"7\",\"pm10Value24\":\"12\",\"pm25Grade\":\"1\",\"pm25Grade1h\":\"1\",\"pm25Value\":\"4\",\"pm25Value24\":\"8\",\"resultCode\":\"\",\"resultMsg\":\"\",\"rnum\":0,\"serviceKey\":\"\",\"sidoName\":\"\",\"so2Grade\":\"1\",\"so2Value\":\"0.005\",\"stationCode\":\"\",\"stationName\":\"중랑구\",\"totalCount\":\"\",\"ver\":\"\"}],\"parm\":{\"_returnType\":\"json\",\"coGrade\":\"\",\"coValue\":\"\",\"dataTerm\":\"DAILY\",\"dataTime\":\"\",\"khaiGrade\":\"\",\"khaiValue\":\"\",\"mangName\":\"\",\"no2Grade\":\"\",\"no2Value\":\"\",\"numOfRows\":\"10\",\"o3Grade\":\"\",\"o3Value\":\"\",\"pageNo\":\"1\",\"pm10Grade\":\"\",\"pm10Grade1h\":\"\",\"pm10Value\":\"\",\"pm10Value24\":\"\",\"pm25Grade\":\"\",\"pm25Grade1h\":\"\",\"pm25Value\":\"\",\"pm25Value24\":\"\",\"resultCode\":\"\",\"resultMsg\":\"\",\"rnum\":0,\"serviceKey\":\"xgnHIwrHEQw+surbf6sAoGLGAbUyTcXmWcdlkJ07HhGbNyp+zifg1mCXWvJjOylHKsREA915rppfAqmfoA29TQ==\",\"sidoName\":\"서울\",\"so2Grade\":\"\",\"so2Value\":\"\",\"stationCode\":\"\",\"stationName\":\"\",\"totalCount\":\"\",\"ver\":\"1.3\"},\"ArpltnInforInqireSvcVo\":{\"_returnType\":\"json\",\"coGrade\":\"\",\"coValue\":\"\",\"dataTerm\":\"DAILY\",\"dataTime\":\"\",\"khaiGrade\":\"\",\"khaiValue\":\"\",\"mangName\":\"\",\"no2Grade\":\"\",\"no2Value\":\"\",\"numOfRows\":\"10\",\"o3Grade\":\"\",\"o3Value\":\"\",\"pageNo\":\"1\",\"pm10Grade\":\"\",\"pm10Grade1h\":\"\",\"pm10Value\":\"\",\"pm10Value24\":\"\",\"pm25Grade\":\"\",\"pm25Grade1h\":\"\",\"pm25Value\":\"\",\"pm25Value24\":\"\",\"resultCode\":\"\",\"resultMsg\":\"\",\"rnum\":0,\"serviceKey\":\"xgnHIwrHEQw+surbf6sAoGLGAbUyTcXmWcdlkJ07HhGbNyp+zifg1mCXWvJjOylHKsREA915rppfAqmfoA29TQ==\",\"sidoName\":\"서울\",\"so2Grade\":\"\",\"so2Value\":\"\",\"stationCode\":\"\",\"stationName\":\"\",\"totalCount\":\"\",\"ver\":\"1.3\"},\"totalCount\":40}'"
      ]
     },
     "execution_count": 35,
     "metadata": {},
     "output_type": "execute_result"
    }
   ],
   "source": [
    "resStr"
   ]
  },
  {
   "cell_type": "code",
   "execution_count": 36,
   "metadata": {},
   "outputs": [
    {
     "data": {
      "text/plain": [
       "str"
      ]
     },
     "execution_count": 36,
     "metadata": {},
     "output_type": "execute_result"
    }
   ],
   "source": [
    "type(resStr)"
   ]
  },
  {
   "cell_type": "code",
   "execution_count": 37,
   "metadata": {},
   "outputs": [],
   "source": [
    "resObj = json.loads(resStr)"
   ]
  },
  {
   "cell_type": "code",
   "execution_count": 38,
   "metadata": {},
   "outputs": [
    {
     "data": {
      "text/plain": [
       "dict"
      ]
     },
     "execution_count": 38,
     "metadata": {},
     "output_type": "execute_result"
    }
   ],
   "source": [
    "type(resObj)"
   ]
  },
  {
   "cell_type": "code",
   "execution_count": 39,
   "metadata": {},
   "outputs": [
    {
     "data": {
      "text/plain": [
       "{'_returnType': 'json',\n",
       " 'coGrade': '1',\n",
       " 'coValue': '0.1',\n",
       " 'dataTerm': '',\n",
       " 'dataTime': '2019-07-29 03:00',\n",
       " 'khaiGrade': '1',\n",
       " 'khaiValue': '27',\n",
       " 'mangName': '도시대기',\n",
       " 'no2Grade': '1',\n",
       " 'no2Value': '0.010',\n",
       " 'numOfRows': '10',\n",
       " 'o3Grade': '1',\n",
       " 'o3Value': '0.005',\n",
       " 'pageNo': '1',\n",
       " 'pm10Grade': '1',\n",
       " 'pm10Grade1h': '1',\n",
       " 'pm10Value': '12',\n",
       " 'pm10Value24': '16',\n",
       " 'pm25Grade': '1',\n",
       " 'pm25Grade1h': '1',\n",
       " 'pm25Value': '5',\n",
       " 'pm25Value24': '8',\n",
       " 'resultCode': '',\n",
       " 'resultMsg': '',\n",
       " 'rnum': 0,\n",
       " 'serviceKey': '',\n",
       " 'sidoName': '',\n",
       " 'so2Grade': '1',\n",
       " 'so2Value': '0.003',\n",
       " 'stationCode': '',\n",
       " 'stationName': '중구',\n",
       " 'totalCount': '',\n",
       " 'ver': ''}"
      ]
     },
     "execution_count": 39,
     "metadata": {},
     "output_type": "execute_result"
    }
   ],
   "source": [
    "resObj[\"list\"][0]"
   ]
  },
  {
   "cell_type": "code",
   "execution_count": 40,
   "metadata": {},
   "outputs": [
    {
     "name": "stdout",
     "output_type": "stream",
     "text": [
      "5\n",
      "6\n",
      "-\n",
      "6\n"
     ]
    }
   ],
   "source": [
    "for i in range(len(resObj)):\n",
    "    print(resObj[\"list\"][i][\"pm25Value\"])"
   ]
  },
  {
   "cell_type": "code",
   "execution_count": 41,
   "metadata": {},
   "outputs": [
    {
     "data": {
      "text/plain": [
       "[{'중구': '5'},\n",
       " {'한강대로': '6'},\n",
       " {'종로구': '-'},\n",
       " {'청계천로': '6'},\n",
       " {'종로': '3'},\n",
       " {'용산구': '4'},\n",
       " {'광진구': '9'},\n",
       " {'성동구': '1'},\n",
       " {'강변북로': '-'},\n",
       " {'중랑구': '4'}]"
      ]
     },
     "execution_count": 41,
     "metadata": {},
     "output_type": "execute_result"
    }
   ],
   "source": [
    "[{x[\"stationName\"]:x[\"pm25Value\"]} for x in resObj[\"list\"]]"
   ]
  },
  {
   "cell_type": "code",
   "execution_count": 42,
   "metadata": {},
   "outputs": [],
   "source": [
    "resJSON = json.dumps(resObj, indent=\"  \") ##object를 str로 만들어 주는 것"
   ]
  },
  {
   "cell_type": "code",
   "execution_count": 43,
   "metadata": {},
   "outputs": [
    {
     "name": "stdout",
     "output_type": "stream",
     "text": [
      "{\n",
      "  \"ArpltnInforInqireSvcVo\": {\n",
      "    \"totalCount\": \"\",\n",
      "    \"stationCode\": \"\",\n",
      "    \"resultCode\": \"\",\n",
      "    \"_returnType\": \"json\",\n",
      "    \"no2Value\": \"\",\n",
      "    \"pm10Grade\": \"\",\n",
      "    \"khaiValue\": \"\",\n",
      "    \"no2Grade\": \"\",\n",
      "    \"pm10Value\": \"\",\n",
      "    \"rnum\": 0,\n",
      "    \"dataTime\": \"\",\n",
      "    \"pm25Grade\": \"\",\n",
      "    \"pm25Value\": \"\",\n",
      "    \"serviceKey\": \"xgnHIwrHEQw+surbf6sAoGLGAbUyTcXmWcdlkJ07HhGbNyp+zifg1mCXWvJjOylHKsREA915rppfAqmfoA29TQ==\",\n",
      "    \"coGrade\": \"\",\n",
      "    \"ver\": \"1.3\",\n",
      "    \"so2Grade\": \"\",\n",
      "    \"mangName\": \"\",\n",
      "    \"o3Grade\": \"\",\n",
      "    \"coValue\": \"\",\n",
      "    \"pm10Value24\": \"\",\n",
      "    \"resultMsg\": \"\",\n",
      "    \"o3Value\": \"\",\n",
      "    \"sidoName\": \"\\uc11c\\uc6b8\",\n",
      "    \"pageNo\": \"1\",\n",
      "    \"so2Value\": \"\",\n",
      "    \"stationName\": \"\",\n",
      "    \"numOfRows\": \"10\",\n",
      "    \"pm25Grade1h\": \"\",\n",
      "    \"khaiGrade\": \"\",\n",
      "    \"pm25Value24\": \"\",\n",
      "    \"pm10Grade1h\": \"\",\n",
      "    \"dataTerm\": \"DAILY\"\n",
      "  },\n",
      "  \"totalCount\": 40,\n",
      "  \"list\": [\n",
      "    {\n",
      "      \"totalCount\": \"\",\n",
      "      \"stationCode\": \"\",\n",
      "      \"resultCode\": \"\",\n",
      "      \"_returnType\": \"json\",\n",
      "      \"no2Value\": \"0.010\",\n",
      "      \"pm10Grade\": \"1\",\n",
      "      \"khaiValue\": \"27\",\n",
      "      \"no2Grade\": \"1\",\n",
      "      \"pm10Value\": \"12\",\n",
      "      \"rnum\": 0,\n",
      "      \"dataTime\": \"2019-07-29 03:00\",\n",
      "      \"pm25Grade\": \"1\",\n",
      "      \"pm25Value\": \"5\",\n",
      "      \"serviceKey\": \"\",\n",
      "      \"coGrade\": \"1\",\n",
      "      \"ver\": \"\",\n",
      "      \"so2Grade\": \"1\",\n",
      "      \"mangName\": \"\\ub3c4\\uc2dc\\ub300\\uae30\",\n",
      "      \"o3Grade\": \"1\",\n",
      "      \"coValue\": \"0.1\",\n",
      "      \"pm10Value24\": \"16\",\n",
      "      \"resultMsg\": \"\",\n",
      "      \"o3Value\": \"0.005\",\n",
      "      \"sidoName\": \"\",\n",
      "      \"pageNo\": \"1\",\n",
      "      \"so2Value\": \"0.003\",\n",
      "      \"stationName\": \"\\uc911\\uad6c\",\n",
      "      \"numOfRows\": \"10\",\n",
      "      \"pm25Grade1h\": \"1\",\n",
      "      \"khaiGrade\": \"1\",\n",
      "      \"pm25Value24\": \"8\",\n",
      "      \"pm10Grade1h\": \"1\",\n",
      "      \"dataTerm\": \"\"\n",
      "    },\n",
      "    {\n",
      "      \"totalCount\": \"\",\n",
      "      \"stationCode\": \"\",\n",
      "      \"resultCode\": \"\",\n",
      "      \"_returnType\": \"json\",\n",
      "      \"no2Value\": \"0.012\",\n",
      "      \"pm10Grade\": \"1\",\n",
      "      \"khaiValue\": \"35\",\n",
      "      \"no2Grade\": \"1\",\n",
      "      \"pm10Value\": \"16\",\n",
      "      \"rnum\": 0,\n",
      "      \"dataTime\": \"2019-07-29 03:00\",\n",
      "      \"pm25Grade\": \"1\",\n",
      "      \"pm25Value\": \"6\",\n",
      "      \"serviceKey\": \"\",\n",
      "      \"coGrade\": \"1\",\n",
      "      \"ver\": \"\",\n",
      "      \"so2Grade\": \"1\",\n",
      "      \"mangName\": \"\\ub3c4\\ub85c\\ubcc0\\ub300\\uae30\",\n",
      "      \"o3Grade\": \"1\",\n",
      "      \"coValue\": \"0.4\",\n",
      "      \"pm10Value24\": \"21\",\n",
      "      \"resultMsg\": \"\",\n",
      "      \"o3Value\": \"0.005\",\n",
      "      \"sidoName\": \"\",\n",
      "      \"pageNo\": \"1\",\n",
      "      \"so2Value\": \"0.004\",\n",
      "      \"stationName\": \"\\ud55c\\uac15\\ub300\\ub85c\",\n",
      "      \"numOfRows\": \"10\",\n",
      "      \"pm25Grade1h\": \"1\",\n",
      "      \"khaiGrade\": \"1\",\n",
      "      \"pm25Value24\": \"8\",\n",
      "      \"pm10Grade1h\": \"1\",\n",
      "      \"dataTerm\": \"\"\n",
      "    },\n",
      "    {\n",
      "      \"totalCount\": \"\",\n",
      "      \"stationCode\": \"\",\n",
      "      \"resultCode\": \"\",\n",
      "      \"_returnType\": \"json\",\n",
      "      \"no2Value\": \"0.013\",\n",
      "      \"pm10Grade\": \"1\",\n",
      "      \"khaiValue\": \"-\",\n",
      "      \"no2Grade\": \"1\",\n",
      "      \"pm10Value\": \"9\",\n",
      "      \"rnum\": 0,\n",
      "      \"dataTime\": \"2019-07-29 03:00\",\n",
      "      \"pm25Grade\": \"\",\n",
      "      \"pm25Value\": \"-\",\n",
      "      \"serviceKey\": \"\",\n",
      "      \"coGrade\": \"\",\n",
      "      \"ver\": \"\",\n",
      "      \"so2Grade\": \"1\",\n",
      "      \"mangName\": \"\\ub3c4\\uc2dc\\ub300\\uae30\",\n",
      "      \"o3Grade\": \"1\",\n",
      "      \"coValue\": \"-\",\n",
      "      \"pm10Value24\": \"14\",\n",
      "      \"resultMsg\": \"\",\n",
      "      \"o3Value\": \"0.005\",\n",
      "      \"sidoName\": \"\",\n",
      "      \"pageNo\": \"1\",\n",
      "      \"so2Value\": \"0.003\",\n",
      "      \"stationName\": \"\\uc885\\ub85c\\uad6c\",\n",
      "      \"numOfRows\": \"10\",\n",
      "      \"pm25Grade1h\": \"\",\n",
      "      \"khaiGrade\": \"\",\n",
      "      \"pm25Value24\": \"-\",\n",
      "      \"pm10Grade1h\": \"1\",\n",
      "      \"dataTerm\": \"\"\n",
      "    },\n",
      "    {\n",
      "      \"totalCount\": \"\",\n",
      "      \"stationCode\": \"\",\n",
      "      \"resultCode\": \"\",\n",
      "      \"_returnType\": \"json\",\n",
      "      \"no2Value\": \"0.013\",\n",
      "      \"pm10Grade\": \"1\",\n",
      "      \"khaiValue\": \"30\",\n",
      "      \"no2Grade\": \"1\",\n",
      "      \"pm10Value\": \"12\",\n",
      "      \"rnum\": 0,\n",
      "      \"dataTime\": \"2019-07-29 03:00\",\n",
      "      \"pm25Grade\": \"1\",\n",
      "      \"pm25Value\": \"6\",\n",
      "      \"serviceKey\": \"\",\n",
      "      \"coGrade\": \"1\",\n",
      "      \"ver\": \"\",\n",
      "      \"so2Grade\": \"1\",\n",
      "      \"mangName\": \"\\ub3c4\\ub85c\\ubcc0\\ub300\\uae30\",\n",
      "      \"o3Grade\": \"1\",\n",
      "      \"coValue\": \"0.3\",\n",
      "      \"pm10Value24\": \"15\",\n",
      "      \"resultMsg\": \"\",\n",
      "      \"o3Value\": \"0.004\",\n",
      "      \"sidoName\": \"\",\n",
      "      \"pageNo\": \"1\",\n",
      "      \"so2Value\": \"0.003\",\n",
      "      \"stationName\": \"\\uccad\\uacc4\\ucc9c\\ub85c\",\n",
      "      \"numOfRows\": \"10\",\n",
      "      \"pm25Grade1h\": \"1\",\n",
      "      \"khaiGrade\": \"1\",\n",
      "      \"pm25Value24\": \"9\",\n",
      "      \"pm10Grade1h\": \"1\",\n",
      "      \"dataTerm\": \"\"\n",
      "    },\n",
      "    {\n",
      "      \"totalCount\": \"\",\n",
      "      \"stationCode\": \"\",\n",
      "      \"resultCode\": \"\",\n",
      "      \"_returnType\": \"json\",\n",
      "      \"no2Value\": \"0.010\",\n",
      "      \"pm10Grade\": \"1\",\n",
      "      \"khaiValue\": \"18\",\n",
      "      \"no2Grade\": \"1\",\n",
      "      \"pm10Value\": \"8\",\n",
      "      \"rnum\": 0,\n",
      "      \"dataTime\": \"2019-07-29 03:00\",\n",
      "      \"pm25Grade\": \"1\",\n",
      "      \"pm25Value\": \"3\",\n",
      "      \"serviceKey\": \"\",\n",
      "      \"coGrade\": \"1\",\n",
      "      \"ver\": \"\",\n",
      "      \"so2Grade\": \"1\",\n",
      "      \"mangName\": \"\\ub3c4\\ub85c\\ubcc0\\ub300\\uae30\",\n",
      "      \"o3Grade\": \"1\",\n",
      "      \"coValue\": \"0.2\",\n",
      "      \"pm10Value24\": \"11\",\n",
      "      \"resultMsg\": \"\",\n",
      "      \"o3Value\": \"0.004\",\n",
      "      \"sidoName\": \"\",\n",
      "      \"pageNo\": \"1\",\n",
      "      \"so2Value\": \"0.002\",\n",
      "      \"stationName\": \"\\uc885\\ub85c\",\n",
      "      \"numOfRows\": \"10\",\n",
      "      \"pm25Grade1h\": \"1\",\n",
      "      \"khaiGrade\": \"1\",\n",
      "      \"pm25Value24\": \"5\",\n",
      "      \"pm10Grade1h\": \"1\",\n",
      "      \"dataTerm\": \"\"\n",
      "    },\n",
      "    {\n",
      "      \"totalCount\": \"\",\n",
      "      \"stationCode\": \"\",\n",
      "      \"resultCode\": \"\",\n",
      "      \"_returnType\": \"json\",\n",
      "      \"no2Value\": \"0.010\",\n",
      "      \"pm10Grade\": \"1\",\n",
      "      \"khaiValue\": \"27\",\n",
      "      \"no2Grade\": \"1\",\n",
      "      \"pm10Value\": \"9\",\n",
      "      \"rnum\": 0,\n",
      "      \"dataTime\": \"2019-07-29 03:00\",\n",
      "      \"pm25Grade\": \"1\",\n",
      "      \"pm25Value\": \"4\",\n",
      "      \"serviceKey\": \"\",\n",
      "      \"coGrade\": \"1\",\n",
      "      \"ver\": \"\",\n",
      "      \"so2Grade\": \"1\",\n",
      "      \"mangName\": \"\\ub3c4\\uc2dc\\ub300\\uae30\",\n",
      "      \"o3Grade\": \"1\",\n",
      "      \"coValue\": \"0.2\",\n",
      "      \"pm10Value24\": \"11\",\n",
      "      \"resultMsg\": \"\",\n",
      "      \"o3Value\": \"0.003\",\n",
      "      \"sidoName\": \"\",\n",
      "      \"pageNo\": \"1\",\n",
      "      \"so2Value\": \"0.002\",\n",
      "      \"stationName\": \"\\uc6a9\\uc0b0\\uad6c\",\n",
      "      \"numOfRows\": \"10\",\n",
      "      \"pm25Grade1h\": \"1\",\n",
      "      \"khaiGrade\": \"1\",\n",
      "      \"pm25Value24\": \"8\",\n",
      "      \"pm10Grade1h\": \"1\",\n",
      "      \"dataTerm\": \"\"\n",
      "    },\n",
      "    {\n",
      "      \"totalCount\": \"\",\n",
      "      \"stationCode\": \"\",\n",
      "      \"resultCode\": \"\",\n",
      "      \"_returnType\": \"json\",\n",
      "      \"no2Value\": \"0.011\",\n",
      "      \"pm10Grade\": \"\",\n",
      "      \"khaiValue\": \"-\",\n",
      "      \"no2Grade\": \"1\",\n",
      "      \"pm10Value\": \"9\",\n",
      "      \"rnum\": 0,\n",
      "      \"dataTime\": \"2019-07-29 03:00\",\n",
      "      \"pm25Grade\": \"1\",\n",
      "      \"pm25Value\": \"9\",\n",
      "      \"serviceKey\": \"\",\n",
      "      \"coGrade\": \"1\",\n",
      "      \"ver\": \"\",\n",
      "      \"so2Grade\": \"1\",\n",
      "      \"mangName\": \"\\ub3c4\\uc2dc\\ub300\\uae30\",\n",
      "      \"o3Grade\": \"1\",\n",
      "      \"coValue\": \"0.6\",\n",
      "      \"pm10Value24\": \"-\",\n",
      "      \"resultMsg\": \"\",\n",
      "      \"o3Value\": \"0.003\",\n",
      "      \"sidoName\": \"\",\n",
      "      \"pageNo\": \"1\",\n",
      "      \"so2Value\": \"0.005\",\n",
      "      \"stationName\": \"\\uad11\\uc9c4\\uad6c\",\n",
      "      \"numOfRows\": \"10\",\n",
      "      \"pm25Grade1h\": \"1\",\n",
      "      \"khaiGrade\": \"\",\n",
      "      \"pm25Value24\": \"11\",\n",
      "      \"pm10Grade1h\": \"1\",\n",
      "      \"dataTerm\": \"\"\n",
      "    },\n",
      "    {\n",
      "      \"totalCount\": \"\",\n",
      "      \"stationCode\": \"\",\n",
      "      \"resultCode\": \"\",\n",
      "      \"_returnType\": \"json\",\n",
      "      \"no2Value\": \"0.010\",\n",
      "      \"pm10Grade\": \"1\",\n",
      "      \"khaiValue\": \"-\",\n",
      "      \"no2Grade\": \"1\",\n",
      "      \"pm10Value\": \"9\",\n",
      "      \"rnum\": 0,\n",
      "      \"dataTime\": \"2019-07-29 03:00\",\n",
      "      \"pm25Grade\": \"\",\n",
      "      \"pm25Value\": \"1\",\n",
      "      \"serviceKey\": \"\",\n",
      "      \"coGrade\": \"1\",\n",
      "      \"ver\": \"\",\n",
      "      \"so2Grade\": \"1\",\n",
      "      \"mangName\": \"\\ub3c4\\uc2dc\\ub300\\uae30\",\n",
      "      \"o3Grade\": \"1\",\n",
      "      \"coValue\": \"0.2\",\n",
      "      \"pm10Value24\": \"8\",\n",
      "      \"resultMsg\": \"\",\n",
      "      \"o3Value\": \"0.007\",\n",
      "      \"sidoName\": \"\",\n",
      "      \"pageNo\": \"1\",\n",
      "      \"so2Value\": \"0.002\",\n",
      "      \"stationName\": \"\\uc131\\ub3d9\\uad6c\",\n",
      "      \"numOfRows\": \"10\",\n",
      "      \"pm25Grade1h\": \"1\",\n",
      "      \"khaiGrade\": \"\",\n",
      "      \"pm25Value24\": \"-\",\n",
      "      \"pm10Grade1h\": \"1\",\n",
      "      \"dataTerm\": \"\"\n",
      "    },\n",
      "    {\n",
      "      \"totalCount\": \"\",\n",
      "      \"stationCode\": \"\",\n",
      "      \"resultCode\": \"\",\n",
      "      \"_returnType\": \"json\",\n",
      "      \"no2Value\": \"0.017\",\n",
      "      \"pm10Grade\": \"1\",\n",
      "      \"khaiValue\": \"-\",\n",
      "      \"no2Grade\": \"1\",\n",
      "      \"pm10Value\": \"9\",\n",
      "      \"rnum\": 0,\n",
      "      \"dataTime\": \"2019-07-29 03:00\",\n",
      "      \"pm25Grade\": \"\",\n",
      "      \"pm25Value\": \"-\",\n",
      "      \"serviceKey\": \"\",\n",
      "      \"coGrade\": \"1\",\n",
      "      \"ver\": \"\",\n",
      "      \"so2Grade\": \"\",\n",
      "      \"mangName\": \"\\ub3c4\\ub85c\\ubcc0\\ub300\\uae30\",\n",
      "      \"o3Grade\": \"1\",\n",
      "      \"coValue\": \"0.1\",\n",
      "      \"pm10Value24\": \"11\",\n",
      "      \"resultMsg\": \"\",\n",
      "      \"o3Value\": \"0.006\",\n",
      "      \"sidoName\": \"\",\n",
      "      \"pageNo\": \"1\",\n",
      "      \"so2Value\": \"-\",\n",
      "      \"stationName\": \"\\uac15\\ubcc0\\ubd81\\ub85c\",\n",
      "      \"numOfRows\": \"10\",\n",
      "      \"pm25Grade1h\": \"\",\n",
      "      \"khaiGrade\": \"\",\n",
      "      \"pm25Value24\": \"-\",\n",
      "      \"pm10Grade1h\": \"1\",\n",
      "      \"dataTerm\": \"\"\n",
      "    },\n",
      "    {\n",
      "      \"totalCount\": \"\",\n",
      "      \"stationCode\": \"\",\n",
      "      \"resultCode\": \"\",\n",
      "      \"_returnType\": \"json\",\n",
      "      \"no2Value\": \"0.007\",\n",
      "      \"pm10Grade\": \"1\",\n",
      "      \"khaiValue\": \"27\",\n",
      "      \"no2Grade\": \"1\",\n",
      "      \"pm10Value\": \"7\",\n",
      "      \"rnum\": 0,\n",
      "      \"dataTime\": \"2019-07-29 03:00\",\n",
      "      \"pm25Grade\": \"1\",\n",
      "      \"pm25Value\": \"4\",\n",
      "      \"serviceKey\": \"\",\n",
      "      \"coGrade\": \"1\",\n",
      "      \"ver\": \"\",\n",
      "      \"so2Grade\": \"1\",\n",
      "      \"mangName\": \"\\ub3c4\\uc2dc\\ub300\\uae30\",\n",
      "      \"o3Grade\": \"1\",\n",
      "      \"coValue\": \"0.3\",\n",
      "      \"pm10Value24\": \"12\",\n",
      "      \"resultMsg\": \"\",\n",
      "      \"o3Value\": \"0.002\",\n",
      "      \"sidoName\": \"\",\n",
      "      \"pageNo\": \"1\",\n",
      "      \"so2Value\": \"0.005\",\n",
      "      \"stationName\": \"\\uc911\\ub791\\uad6c\",\n",
      "      \"numOfRows\": \"10\",\n",
      "      \"pm25Grade1h\": \"1\",\n",
      "      \"khaiGrade\": \"1\",\n",
      "      \"pm25Value24\": \"8\",\n",
      "      \"pm10Grade1h\": \"1\",\n",
      "      \"dataTerm\": \"\"\n",
      "    }\n",
      "  ],\n",
      "  \"parm\": {\n",
      "    \"totalCount\": \"\",\n",
      "    \"stationCode\": \"\",\n",
      "    \"resultCode\": \"\",\n",
      "    \"_returnType\": \"json\",\n",
      "    \"no2Value\": \"\",\n",
      "    \"pm10Grade\": \"\",\n",
      "    \"khaiValue\": \"\",\n",
      "    \"no2Grade\": \"\",\n",
      "    \"pm10Value\": \"\",\n",
      "    \"rnum\": 0,\n",
      "    \"dataTime\": \"\",\n",
      "    \"pm25Grade\": \"\",\n",
      "    \"pm25Value\": \"\",\n",
      "    \"serviceKey\": \"xgnHIwrHEQw+surbf6sAoGLGAbUyTcXmWcdlkJ07HhGbNyp+zifg1mCXWvJjOylHKsREA915rppfAqmfoA29TQ==\",\n",
      "    \"coGrade\": \"\",\n",
      "    \"ver\": \"1.3\",\n",
      "    \"so2Grade\": \"\",\n",
      "    \"mangName\": \"\",\n",
      "    \"o3Grade\": \"\",\n",
      "    \"coValue\": \"\",\n",
      "    \"pm10Value24\": \"\",\n",
      "    \"resultMsg\": \"\",\n",
      "    \"o3Value\": \"\",\n",
      "    \"sidoName\": \"\\uc11c\\uc6b8\",\n",
      "    \"pageNo\": \"1\",\n",
      "    \"so2Value\": \"\",\n",
      "    \"stationName\": \"\",\n",
      "    \"numOfRows\": \"10\",\n",
      "    \"pm25Grade1h\": \"\",\n",
      "    \"khaiGrade\": \"\",\n",
      "    \"pm25Value24\": \"\",\n",
      "    \"pm10Grade1h\": \"\",\n",
      "    \"dataTerm\": \"DAILY\"\n",
      "  }\n",
      "}\n"
     ]
    }
   ],
   "source": [
    "print(resJSON)"
   ]
  },
  {
   "cell_type": "code",
   "execution_count": 44,
   "metadata": {},
   "outputs": [
    {
     "data": {
      "text/plain": [
       "str"
      ]
     },
     "execution_count": 44,
     "metadata": {},
     "output_type": "execute_result"
    }
   ],
   "source": [
    "type(resJSON)"
   ]
  },
  {
   "cell_type": "code",
   "execution_count": 45,
   "metadata": {},
   "outputs": [],
   "source": [
    "from bs4 import BeautifulSoup"
   ]
  },
  {
   "cell_type": "code",
   "execution_count": 47,
   "metadata": {},
   "outputs": [],
   "source": [
    "with open('11.html',encoding=\"utf-8\") as file:\n",
    "    \n",
    "    html = file.read()"
   ]
  },
  {
   "cell_type": "code",
   "execution_count": 48,
   "metadata": {},
   "outputs": [],
   "source": [
    "dom = BeautifulSoup(html,'lxml')"
   ]
  },
  {
   "cell_type": "code",
   "execution_count": 49,
   "metadata": {},
   "outputs": [
    {
     "data": {
      "text/plain": [
       "<html><head><script>\n",
       "\tvar arr = [\"Kim\", 30, true];\n",
       "\t\n",
       "\tconsole.log(arr)\n",
       "\tconsole.log(JSON.stringify(arr));\n",
       "\t\n",
       "\tarrStr = JSON.stringify(arr);\n",
       "\t\n",
       "\tconsole.log(arr[0])\n",
       "\tconsole.log(arrStr[0])\n",
       "</script>\n",
       "<script>\n",
       "\tconsole.log(\"object to String!!!!!!!!!\")\n",
       "\tvar obj = { name : \"kim\", \"age\" : 30, \"car\" : true, \"middle name\" : null };\n",
       "\t\n",
       "\tconsole.log(obj);\n",
       "\tconsole.log(JSON.stringify(obj));\n",
       "\t\n",
       "\tvar objStr = JSON.stringify(obj, [\"name\"]);\n",
       "\t\n",
       "\tconsole.log(obj.name); //name만 나온다\n",
       "\tconsole.log(objStr); //여기서 찍히지 않는다~\n",
       "\t\n",
       "\tobjStr = JSON.stringify(obj, function(k,v){if(v===\"kim\") return; else return v;});\n",
       "\t\n",
       "\tconsole.log(obj); //그냥 다 뽑겠다.\n",
       "\tconsole.log(objStr); //name 빼고 출력하겠다~ ... \n",
       "\t\n",
       "\tobjStr = JSON.stringify(obj,null,10 /* ' ','\\t', */);\n",
       "\tconsole.log(obj);\n",
       "\tconsole.log(objStr); \n",
       "</script>\n",
       "<script>\n",
       "\tconsole.log(\"parse!!!!!!!!!!!!!!\");\n",
       "\t\n",
       "\tvar str = '{ \"name\" : \"Kim\", \"age\" : 30, \"car\" : [\"Ray\", \"Spark\"]}'\n",
       "\t\n",
       "\tconsole.log(str);\n",
       "\tconsole.log(str.name);\n",
       "\t\n",
       "\tobj = JSON.parse(str);\n",
       "\t\n",
       "\tconsole.log(obj);\n",
       "\tconsole.log(obj.name);\n",
       "\t\n",
       "\tobj = JSON.parse(str, function(k,v){\n",
       "\t\t\t\t\t\tif (typeof(v) == \"number\")\n",
       "\t\t\t\t\t\t\treturn v.toString();\n",
       "\t\t\t\t\t\telse\n",
       "\t\t\t\t\t\t\treturn v; } );\n",
       "\tconsole.log(obj);\n",
       "\tconsole.log(obj.age); //이 친구는 숫자 30이 아닌, 문자열 30이 나온다~\n",
       "\t\n",
       "\t\n",
       "</script>\n",
       "</head></html>"
      ]
     },
     "execution_count": 49,
     "metadata": {},
     "output_type": "execute_result"
    }
   ],
   "source": [
    "dom"
   ]
  },
  {
   "cell_type": "code",
   "execution_count": 66,
   "metadata": {},
   "outputs": [
    {
     "data": {
      "text/plain": [
       "[<script>\n",
       " \tvar arr = [\"Kim\", 30, true];\n",
       " \t\n",
       " \tconsole.log(arr)\n",
       " \tconsole.log(JSON.stringify(arr));\n",
       " \t\n",
       " \tarrStr = JSON.stringify(arr);\n",
       " \t\n",
       " \tconsole.log(arr[0])\n",
       " \tconsole.log(arrStr[0])\n",
       " </script>, <script>\n",
       " \tconsole.log(\"object to String!!!!!!!!!\")\n",
       " \tvar obj = { name : \"kim\", \"age\" : 30, \"car\" : true, \"middle name\" : null };\n",
       " \t\n",
       " \tconsole.log(obj);\n",
       " \tconsole.log(JSON.stringify(obj));\n",
       " \t\n",
       " \tvar objStr = JSON.stringify(obj, [\"name\"]);\n",
       " \t\n",
       " \tconsole.log(obj.name); //name만 나온다\n",
       " \tconsole.log(objStr); //여기서 찍히지 않는다~\n",
       " \t\n",
       " \tobjStr = JSON.stringify(obj, function(k,v){if(v===\"kim\") return; else return v;});\n",
       " \t\n",
       " \tconsole.log(obj); //그냥 다 뽑겠다.\n",
       " \tconsole.log(objStr); //name 빼고 출력하겠다~ ... \n",
       " \t\n",
       " \tobjStr = JSON.stringify(obj,null,10 /* ' ','\\t', */);\n",
       " \tconsole.log(obj);\n",
       " \tconsole.log(objStr); \n",
       " </script>, <script>\n",
       " \tconsole.log(\"parse!!!!!!!!!!!!!!\");\n",
       " \t\n",
       " \tvar str = '{ \"name\" : \"Kim\", \"age\" : 30, \"car\" : [\"Ray\", \"Spark\"]}'\n",
       " \t\n",
       " \tconsole.log(str);\n",
       " \tconsole.log(str.name);\n",
       " \t\n",
       " \tobj = JSON.parse(str);\n",
       " \t\n",
       " \tconsole.log(obj);\n",
       " \tconsole.log(obj.name);\n",
       " \t\n",
       " \tobj = JSON.parse(str, function(k,v){\n",
       " \t\t\t\t\t\tif (typeof(v) == \"number\")\n",
       " \t\t\t\t\t\t\treturn v.toString();\n",
       " \t\t\t\t\t\telse\n",
       " \t\t\t\t\t\t\treturn v; } );\n",
       " \tconsole.log(obj);\n",
       " \tconsole.log(obj.age); //이 친구는 숫자 30이 아닌, 문자열 30이 나온다~\n",
       " \t\n",
       " \t\n",
       " </script>]"
      ]
     },
     "execution_count": 66,
     "metadata": {},
     "output_type": "execute_result"
    }
   ],
   "source": [
    "dom.select('script')"
   ]
  },
  {
   "cell_type": "code",
   "execution_count": null,
   "metadata": {},
   "outputs": [],
   "source": []
  }
 ],
 "metadata": {
  "kernelspec": {
   "display_name": "Python 3",
   "language": "python",
   "name": "python3"
  },
  "language_info": {
   "codemirror_mode": {
    "name": "ipython",
    "version": 3
   },
   "file_extension": ".py",
   "mimetype": "text/x-python",
   "name": "python",
   "nbconvert_exporter": "python",
   "pygments_lexer": "ipython3",
   "version": "3.5.6"
  }
 },
 "nbformat": 4,
 "nbformat_minor": 2
}
